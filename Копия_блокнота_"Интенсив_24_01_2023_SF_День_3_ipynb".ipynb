{
  "nbformat": 4,
  "nbformat_minor": 0,
  "metadata": {
    "colab": {
      "provenance": [],
      "include_colab_link": true
    },
    "kernelspec": {
      "name": "python3",
      "display_name": "Python 3"
    },
    "language_info": {
      "name": "python"
    }
  },
  "cells": [
    {
      "cell_type": "markdown",
      "metadata": {
        "id": "view-in-github",
        "colab_type": "text"
      },
      "source": [
        "<a href=\"https://colab.research.google.com/github/Avonna/Avona/blob/main/%D0%9A%D0%BE%D0%BF%D0%B8%D1%8F_%D0%B1%D0%BB%D0%BE%D0%BA%D0%BD%D0%BE%D1%82%D0%B0_%22%D0%98%D0%BD%D1%82%D0%B5%D0%BD%D1%81%D0%B8%D0%B2_24_01_2023_SF_%D0%94%D0%B5%D0%BD%D1%8C_3_ipynb%22.ipynb\" target=\"_parent\"><img src=\"https://colab.research.google.com/assets/colab-badge.svg\" alt=\"Open In Colab\"/></a>"
      ]
    },
    {
      "cell_type": "markdown",
      "source": [
        "# Интенсив \"Пишем рекомендательную систему как в YouTube (почти)\"\n",
        "## День 3"
      ],
      "metadata": {
        "id": "K3fbPeAdiw-B"
      }
    },
    {
      "cell_type": "markdown",
      "source": [
        "### Загрузим и обработаем данные"
      ],
      "metadata": {
        "id": "GoXmsTePjmNb"
      }
    },
    {
      "cell_type": "code",
      "execution_count": null,
      "metadata": {
        "id": "x2XL-Zv3iqk2"
      },
      "outputs": [],
      "source": [
        "import pandas as pd\n",
        "\n",
        "data = pd.read_csv(\"./video_dataset.csv\")\n",
        "\n",
        "data_small = data.loc[:, ['id', 'title', 'description', 'thumbnail_medium', 'tags', 'views', 'likes']]"
      ]
    },
    {
      "cell_type": "code",
      "source": [
        "from nltk.stem import WordNetLemmatizer\n",
        "from nltk.corpus import stopwords\n",
        "from nltk.tokenize import word_tokenize\n",
        "import nltk\n",
        "import re\n",
        "\n",
        "nltk.download('stopwords')\n",
        "nltk.download('punkt')\n",
        "nltk.download('wordnet')\n",
        "nltk.download('omw-1.4')"
      ],
      "metadata": {
        "colab": {
          "base_uri": "https://localhost:8080/"
        },
        "id": "n-g_JJm1i-0C",
        "outputId": "644d35c3-db51-4b02-aac1-775e18c41ba1"
      },
      "execution_count": null,
      "outputs": [
        {
          "output_type": "stream",
          "name": "stderr",
          "text": [
            "[nltk_data] Downloading package stopwords to /root/nltk_data...\n",
            "[nltk_data]   Package stopwords is already up-to-date!\n",
            "[nltk_data] Downloading package punkt to /root/nltk_data...\n",
            "[nltk_data]   Package punkt is already up-to-date!\n",
            "[nltk_data] Downloading package wordnet to /root/nltk_data...\n",
            "[nltk_data]   Package wordnet is already up-to-date!\n",
            "[nltk_data] Downloading package omw-1.4 to /root/nltk_data...\n",
            "[nltk_data]   Package omw-1.4 is already up-to-date!\n"
          ]
        },
        {
          "output_type": "execute_result",
          "data": {
            "text/plain": [
              "True"
            ]
          },
          "metadata": {},
          "execution_count": 63
        }
      ]
    },
    {
      "cell_type": "code",
      "source": [
        "STOPWORDS = set(stopwords.words('english'))\n",
        "MIN_WORDS = 4\n",
        "MAX_WORDS = 200\n",
        "\n",
        "PATTERN_S = re.compile(\"\\'s\")  # matches `'s` from text  \n",
        "PATTERN_RN = re.compile(\"\\\\r\\\\n\") #matches `\\r` and `\\n`\n",
        "PATTERN_PUNC = re.compile(r\"[^\\w\\s]\") # matches all non 0-9 A-z whitespace \n",
        "\n",
        "def clean_text(text):\n",
        "    text = text.lower()  \n",
        "    # replace the matched string with ' '\n",
        "    text = re.sub(PATTERN_S, ' ', text)\n",
        "    text = re.sub(PATTERN_RN, ' ', text)\n",
        "    text = re.sub(PATTERN_PUNC, ' ', text)\n",
        "    return text\n",
        "\n",
        "def tokenizer(sentence, min_words=MIN_WORDS, max_words=MAX_WORDS, stopwords=STOPWORDS, lemmatize=True):\n",
        "    if lemmatize:\n",
        "        stemmer = WordNetLemmatizer()\n",
        "        tokens = [stemmer.lemmatize(w) for w in word_tokenize(sentence)]\n",
        "    else:\n",
        "        tokens = [w for w in word_tokenize(sentence)]\n",
        "    token = [w for w in tokens if (len(w) > min_words and len(w) < max_words\n",
        "                                                        and w not in stopwords)]\n",
        "    return tokens \n",
        "\n",
        "def clean_sentences(df):\n",
        "    print('Cleaning sentences...')\n",
        "    df['clean_sentence'] = df['sentence'].apply(clean_text)\n",
        "    df['tok_lem_sentence'] = df['clean_sentence'].apply(\n",
        "        lambda x: tokenizer(x, min_words=MIN_WORDS, max_words=MAX_WORDS, stopwords=STOPWORDS))\n",
        "    return df\n",
        "\n",
        "from ast import literal_eval\n",
        "\n",
        "data_small['tags_text'] = data_small['tags'].apply(lambda x: ' '.join(literal_eval(x)) if isinstance(x, str) else '')\n",
        "\n",
        "def create_combined_data(x):\n",
        "    result = x['description'] if isinstance(x['description'], str) else ''\n",
        "    return result + ' ' + x['tags_text']\n",
        "\n",
        "data_small['sentence'] = data_small.apply(create_combined_data, axis=1)\n",
        "data_clean = clean_sentences(data_small)"
      ],
      "metadata": {
        "colab": {
          "base_uri": "https://localhost:8080/"
        },
        "id": "WY7v8DEwjAs5",
        "outputId": "01ed85eb-3c0f-443c-d21b-12f131bcb4c5"
      },
      "execution_count": null,
      "outputs": [
        {
          "output_type": "stream",
          "name": "stdout",
          "text": [
            "Cleaning sentences...\n"
          ]
        }
      ]
    },
    {
      "cell_type": "markdown",
      "source": [
        "### Сделаем предсказательную систему"
      ],
      "metadata": {
        "id": "Lediv5Ikjob2"
      }
    },
    {
      "cell_type": "code",
      "source": [
        "from sklearn.metrics.pairwise import cosine_similarity\n",
        "import numpy as np\n",
        "\n",
        "def extract_best_indices(m, topk, mask=None):\n",
        "    if len(m.shape) > 1:\n",
        "        cos_sim = np.mean(m, axis=0) \n",
        "    else: \n",
        "        cos_sim = m\n",
        "\n",
        "    index = np.argsort(cos_sim)[::-1] \n",
        "    if mask is not None:\n",
        "        assert mask.shape == m.shape\n",
        "        mask = mask[index]\n",
        "    else:\n",
        "        mask = np.ones(len(cos_sim))\n",
        "    mask = np.logical_or(cos_sim[index] != 0, mask) \n",
        "    best_index = index[mask][:topk]  \n",
        "    return best_index"
      ],
      "metadata": {
        "id": "n0-q0HKEjLD6"
      },
      "execution_count": null,
      "outputs": []
    },
    {
      "cell_type": "code",
      "source": [
        "import spacy\n",
        "\n",
        "!python -m spacy download en_core_web_lg"
      ],
      "metadata": {
        "id": "vVpagWqBjxk3"
      },
      "execution_count": null,
      "outputs": []
    },
    {
      "cell_type": "code",
      "source": [
        "def predict_spacy(model, query_sentence, embed_mat, topk=3):\n",
        "    query_embed = model(query_sentence)\n",
        "    mat = np.array([query_embed.similarity(line) for line in embed_mat])\n",
        "\n",
        "    mat_mask = np.array(\n",
        "        [True if line.vector_norm else False for line in embed_mat])\n",
        "    best_index = extract_best_indices(mat, topk=topk, mask=mat_mask)\n",
        "    return best_index"
      ],
      "metadata": {
        "id": "ieF7YeX3j2wZ"
      },
      "execution_count": null,
      "outputs": []
    },
    {
      "cell_type": "code",
      "source": [
        "nlp = spacy.load(\"en_core_web_lg\") \n",
        "data_clean['spacy_sentence'] = data_clean['sentence'].apply(lambda x: nlp(x))\n",
        "embed_mat = data_clean['spacy_sentence'].values"
      ],
      "metadata": {
        "id": "nJU-9QNnj4fV"
      },
      "execution_count": null,
      "outputs": []
    },
    {
      "cell_type": "code",
      "source": [
        "test_sentence = 'SQL with java' \n",
        "best_index = predict_spacy(nlp, test_sentence, embed_mat)\n",
        "\n",
        "display(data_small[['title', 'sentence']].iloc[best_index]);"
      ],
      "metadata": {
        "colab": {
          "base_uri": "https://localhost:8080/",
          "height": 557
        },
        "id": "Qm1-A7DAj9te",
        "outputId": "bdde1d2c-27ea-4f0d-d7a3-acb89f50fc27"
      },
      "execution_count": null,
      "outputs": [
        {
          "metadata": {
            "tags": null
          },
          "name": "stderr",
          "output_type": "stream",
          "text": [
            "<ipython-input-67-b4f363494ea5>:3: UserWarning:\n",
            "\n",
            "[W008] Evaluating Doc.similarity based on empty vectors.\n",
            "\n"
          ]
        },
        {
          "data": {
            "text/html": [
              "\n",
              "  <div id=\"df-bbb596bf-0c4d-4ab9-bd06-a0f00665fcdf\">\n",
              "    <div class=\"colab-df-container\">\n",
              "      <div>\n",
              "<style scoped>\n",
              "    .dataframe tbody tr th:only-of-type {\n",
              "        vertical-align: middle;\n",
              "    }\n",
              "\n",
              "    .dataframe tbody tr th {\n",
              "        vertical-align: top;\n",
              "    }\n",
              "\n",
              "    .dataframe thead th {\n",
              "        text-align: right;\n",
              "    }\n",
              "</style>\n",
              "<table border=\"1\" class=\"dataframe\">\n",
              "  <thead>\n",
              "    <tr style=\"text-align: right;\">\n",
              "      <th></th>\n",
              "      <th>title</th>\n",
              "      <th>sentence</th>\n",
              "    </tr>\n",
              "  </thead>\n",
              "  <tbody>\n",
              "    <tr>\n",
              "      <th>163</th>\n",
              "      <td>Java Connect to Microsoft SQL Server Step by Step</td>\n",
              "      <td>Learn to write Java code that connects to Micr...</td>\n",
              "    </tr>\n",
              "    <tr>\n",
              "      <th>168</th>\n",
              "      <td>Java - Connection to SQL Server, downloading a...</td>\n",
              "      <td>This demo shows how to connect to SQL Server f...</td>\n",
              "    </tr>\n",
              "    <tr>\n",
              "      <th>181</th>\n",
              "      <td>Java Connect to MySQL Database Step by Step</td>\n",
              "      <td>Learn to write Java code that connects to a My...</td>\n",
              "    </tr>\n",
              "  </tbody>\n",
              "</table>\n",
              "</div>\n",
              "      <button class=\"colab-df-convert\" onclick=\"convertToInteractive('df-bbb596bf-0c4d-4ab9-bd06-a0f00665fcdf')\"\n",
              "              title=\"Convert this dataframe to an interactive table.\"\n",
              "              style=\"display:none;\">\n",
              "        \n",
              "  <svg xmlns=\"http://www.w3.org/2000/svg\" height=\"24px\"viewBox=\"0 0 24 24\"\n",
              "       width=\"24px\">\n",
              "    <path d=\"M0 0h24v24H0V0z\" fill=\"none\"/>\n",
              "    <path d=\"M18.56 5.44l.94 2.06.94-2.06 2.06-.94-2.06-.94-.94-2.06-.94 2.06-2.06.94zm-11 1L8.5 8.5l.94-2.06 2.06-.94-2.06-.94L8.5 2.5l-.94 2.06-2.06.94zm10 10l.94 2.06.94-2.06 2.06-.94-2.06-.94-.94-2.06-.94 2.06-2.06.94z\"/><path d=\"M17.41 7.96l-1.37-1.37c-.4-.4-.92-.59-1.43-.59-.52 0-1.04.2-1.43.59L10.3 9.45l-7.72 7.72c-.78.78-.78 2.05 0 2.83L4 21.41c.39.39.9.59 1.41.59.51 0 1.02-.2 1.41-.59l7.78-7.78 2.81-2.81c.8-.78.8-2.07 0-2.86zM5.41 20L4 18.59l7.72-7.72 1.47 1.35L5.41 20z\"/>\n",
              "  </svg>\n",
              "      </button>\n",
              "      \n",
              "  <style>\n",
              "    .colab-df-container {\n",
              "      display:flex;\n",
              "      flex-wrap:wrap;\n",
              "      gap: 12px;\n",
              "    }\n",
              "\n",
              "    .colab-df-convert {\n",
              "      background-color: #E8F0FE;\n",
              "      border: none;\n",
              "      border-radius: 50%;\n",
              "      cursor: pointer;\n",
              "      display: none;\n",
              "      fill: #1967D2;\n",
              "      height: 32px;\n",
              "      padding: 0 0 0 0;\n",
              "      width: 32px;\n",
              "    }\n",
              "\n",
              "    .colab-df-convert:hover {\n",
              "      background-color: #E2EBFA;\n",
              "      box-shadow: 0px 1px 2px rgba(60, 64, 67, 0.3), 0px 1px 3px 1px rgba(60, 64, 67, 0.15);\n",
              "      fill: #174EA6;\n",
              "    }\n",
              "\n",
              "    [theme=dark] .colab-df-convert {\n",
              "      background-color: #3B4455;\n",
              "      fill: #D2E3FC;\n",
              "    }\n",
              "\n",
              "    [theme=dark] .colab-df-convert:hover {\n",
              "      background-color: #434B5C;\n",
              "      box-shadow: 0px 1px 3px 1px rgba(0, 0, 0, 0.15);\n",
              "      filter: drop-shadow(0px 1px 2px rgba(0, 0, 0, 0.3));\n",
              "      fill: #FFFFFF;\n",
              "    }\n",
              "  </style>\n",
              "\n",
              "      <script>\n",
              "        const buttonEl =\n",
              "          document.querySelector('#df-bbb596bf-0c4d-4ab9-bd06-a0f00665fcdf button.colab-df-convert');\n",
              "        buttonEl.style.display =\n",
              "          google.colab.kernel.accessAllowed ? 'block' : 'none';\n",
              "\n",
              "        async function convertToInteractive(key) {\n",
              "          const element = document.querySelector('#df-bbb596bf-0c4d-4ab9-bd06-a0f00665fcdf');\n",
              "          const dataTable =\n",
              "            await google.colab.kernel.invokeFunction('convertToInteractive',\n",
              "                                                     [key], {});\n",
              "          if (!dataTable) return;\n",
              "\n",
              "          const docLinkHtml = 'Like what you see? Visit the ' +\n",
              "            '<a target=\"_blank\" href=https://colab.research.google.com/notebooks/data_table.ipynb>data table notebook</a>'\n",
              "            + ' to learn more about interactive tables.';\n",
              "          element.innerHTML = '';\n",
              "          dataTable['output_type'] = 'display_data';\n",
              "          await google.colab.output.renderOutput(dataTable, element);\n",
              "          const docLink = document.createElement('div');\n",
              "          docLink.innerHTML = docLinkHtml;\n",
              "          element.appendChild(docLink);\n",
              "        }\n",
              "      </script>\n",
              "    </div>\n",
              "  </div>\n",
              "  "
            ],
            "text/plain": [
              "                                                 title  \\\n",
              "163  Java Connect to Microsoft SQL Server Step by Step   \n",
              "168  Java - Connection to SQL Server, downloading a...   \n",
              "181        Java Connect to MySQL Database Step by Step   \n",
              "\n",
              "                                              sentence  \n",
              "163  Learn to write Java code that connects to Micr...  \n",
              "168  This demo shows how to connect to SQL Server f...  \n",
              "181  Learn to write Java code that connects to a My...  "
            ]
          },
          "metadata": {},
          "output_type": "display_data"
        }
      ]
    },
    {
      "cell_type": "markdown",
      "source": [
        "### Сделаем интерфейс чуть удобнее и приятнее"
      ],
      "metadata": {
        "id": "tZAGQaMqkGf4"
      }
    },
    {
      "cell_type": "code",
      "source": [
        "def predict_top3(movie_id, data, model):\n",
        "    test_sentence = data.iloc[movie_id]['clean_sentence']\n",
        "    embed_mat = data['spacy_sentence'].values\n",
        "    best_index = predict_spacy(nlp, test_sentence, embed_mat)\n",
        "    return data.iloc[best_index]"
      ],
      "metadata": {
        "id": "wipu42_Qj-Hb"
      },
      "execution_count": null,
      "outputs": []
    },
    {
      "cell_type": "code",
      "source": [
        "prediction = predict_top3(23, data_clean, nlp)\n",
        "\n",
        "display(prediction)"
      ],
      "metadata": {
        "colab": {
          "base_uri": "https://localhost:8080/",
          "height": 470
        },
        "id": "HrtK5iqglofU",
        "outputId": "da62d17b-70e5-4099-c95c-e92b366cff8a"
      },
      "execution_count": null,
      "outputs": [
        {
          "output_type": "stream",
          "name": "stderr",
          "text": [
            "<ipython-input-67-b4f363494ea5>:3: UserWarning:\n",
            "\n",
            "[W008] Evaluating Doc.similarity based on empty vectors.\n",
            "\n"
          ]
        },
        {
          "output_type": "display_data",
          "data": {
            "text/plain": [
              "              id                                            title  \\\n",
              "193  I6N5xf8NOz0               Backend development using Django 2   \n",
              "16   f_uwKZIAeM0                        What is Machine Learning?   \n",
              "131  b0L47BeklTE  Linear Regression Python Sklearn [FROM SCRATCH]   \n",
              "\n",
              "                                           description  \\\n",
              "193  Course link:\\nhttps://courses.learncodeonline....   \n",
              "16   Machine learning is all around us; on our phon...   \n",
              "131  linear regression python sklearn. In this vide...   \n",
              "\n",
              "                                     thumbnail_medium  \\\n",
              "193  https://i.ytimg.com/vi/I6N5xf8NOz0/mqdefault.jpg   \n",
              "16   https://i.ytimg.com/vi/f_uwKZIAeM0/mqdefault.jpg   \n",
              "131  https://i.ytimg.com/vi/b0L47BeklTE/mqdefault.jpg   \n",
              "\n",
              "                                                  tags     views   likes  \\\n",
              "193  ['Programming', 'LearnCodeOnline', 'Django', '...   42174.0   830.0   \n",
              "16   ['machine learning', 'machienes', 'computer le...  451628.0  3180.0   \n",
              "131  ['Linear Regression Sklearn Example', 'linear ...   60010.0   895.0   \n",
              "\n",
              "                                             tags_text  \\\n",
              "193  Programming LearnCodeOnline Django Django 2 Ba...   \n",
              "16   machine learning machienes computer learning c...   \n",
              "131  Linear Regression Sklearn Example linear regre...   \n",
              "\n",
              "                                              sentence  \\\n",
              "193  Course link:\\nhttps://courses.learncodeonline....   \n",
              "16   Machine learning is all around us; on our phon...   \n",
              "131  linear regression python sklearn. In this vide...   \n",
              "\n",
              "                                        clean_sentence  \\\n",
              "193  course link \\nhttps   courses learncodeonline ...   \n",
              "16   machine learning is all around us  on our phon...   \n",
              "131  linear regression python sklearn  in this vide...   \n",
              "\n",
              "                                      tok_lem_sentence  \\\n",
              "193  [course, link, http, course, learncodeonline, ...   \n",
              "16   [machine, learning, is, all, around, u, on, ou...   \n",
              "131  [linear, regression, python, sklearn, in, this...   \n",
              "\n",
              "                                        spacy_sentence  \n",
              "193  (Course, link, :, \\n, https://courses.learncod...  \n",
              "16   (Machine, learning, is, all, around, us, ;, on...  \n",
              "131  (linear, regression, python, sklearn, ., In, t...  "
            ],
            "text/html": [
              "\n",
              "  <div id=\"df-01a55cc5-ac30-4464-bbdd-c16d7b62c8b0\">\n",
              "    <div class=\"colab-df-container\">\n",
              "      <div>\n",
              "<style scoped>\n",
              "    .dataframe tbody tr th:only-of-type {\n",
              "        vertical-align: middle;\n",
              "    }\n",
              "\n",
              "    .dataframe tbody tr th {\n",
              "        vertical-align: top;\n",
              "    }\n",
              "\n",
              "    .dataframe thead th {\n",
              "        text-align: right;\n",
              "    }\n",
              "</style>\n",
              "<table border=\"1\" class=\"dataframe\">\n",
              "  <thead>\n",
              "    <tr style=\"text-align: right;\">\n",
              "      <th></th>\n",
              "      <th>id</th>\n",
              "      <th>title</th>\n",
              "      <th>description</th>\n",
              "      <th>thumbnail_medium</th>\n",
              "      <th>tags</th>\n",
              "      <th>views</th>\n",
              "      <th>likes</th>\n",
              "      <th>tags_text</th>\n",
              "      <th>sentence</th>\n",
              "      <th>clean_sentence</th>\n",
              "      <th>tok_lem_sentence</th>\n",
              "      <th>spacy_sentence</th>\n",
              "    </tr>\n",
              "  </thead>\n",
              "  <tbody>\n",
              "    <tr>\n",
              "      <th>193</th>\n",
              "      <td>I6N5xf8NOz0</td>\n",
              "      <td>Backend development using Django 2</td>\n",
              "      <td>Course link:\\nhttps://courses.learncodeonline....</td>\n",
              "      <td>https://i.ytimg.com/vi/I6N5xf8NOz0/mqdefault.jpg</td>\n",
              "      <td>['Programming', 'LearnCodeOnline', 'Django', '...</td>\n",
              "      <td>42174.0</td>\n",
              "      <td>830.0</td>\n",
              "      <td>Programming LearnCodeOnline Django Django 2 Ba...</td>\n",
              "      <td>Course link:\\nhttps://courses.learncodeonline....</td>\n",
              "      <td>course link \\nhttps   courses learncodeonline ...</td>\n",
              "      <td>[course, link, http, course, learncodeonline, ...</td>\n",
              "      <td>(Course, link, :, \\n, https://courses.learncod...</td>\n",
              "    </tr>\n",
              "    <tr>\n",
              "      <th>16</th>\n",
              "      <td>f_uwKZIAeM0</td>\n",
              "      <td>What is Machine Learning?</td>\n",
              "      <td>Machine learning is all around us; on our phon...</td>\n",
              "      <td>https://i.ytimg.com/vi/f_uwKZIAeM0/mqdefault.jpg</td>\n",
              "      <td>['machine learning', 'machienes', 'computer le...</td>\n",
              "      <td>451628.0</td>\n",
              "      <td>3180.0</td>\n",
              "      <td>machine learning machienes computer learning c...</td>\n",
              "      <td>Machine learning is all around us; on our phon...</td>\n",
              "      <td>machine learning is all around us  on our phon...</td>\n",
              "      <td>[machine, learning, is, all, around, u, on, ou...</td>\n",
              "      <td>(Machine, learning, is, all, around, us, ;, on...</td>\n",
              "    </tr>\n",
              "    <tr>\n",
              "      <th>131</th>\n",
              "      <td>b0L47BeklTE</td>\n",
              "      <td>Linear Regression Python Sklearn [FROM SCRATCH]</td>\n",
              "      <td>linear regression python sklearn. In this vide...</td>\n",
              "      <td>https://i.ytimg.com/vi/b0L47BeklTE/mqdefault.jpg</td>\n",
              "      <td>['Linear Regression Sklearn Example', 'linear ...</td>\n",
              "      <td>60010.0</td>\n",
              "      <td>895.0</td>\n",
              "      <td>Linear Regression Sklearn Example linear regre...</td>\n",
              "      <td>linear regression python sklearn. In this vide...</td>\n",
              "      <td>linear regression python sklearn  in this vide...</td>\n",
              "      <td>[linear, regression, python, sklearn, in, this...</td>\n",
              "      <td>(linear, regression, python, sklearn, ., In, t...</td>\n",
              "    </tr>\n",
              "  </tbody>\n",
              "</table>\n",
              "</div>\n",
              "      <button class=\"colab-df-convert\" onclick=\"convertToInteractive('df-01a55cc5-ac30-4464-bbdd-c16d7b62c8b0')\"\n",
              "              title=\"Convert this dataframe to an interactive table.\"\n",
              "              style=\"display:none;\">\n",
              "        \n",
              "  <svg xmlns=\"http://www.w3.org/2000/svg\" height=\"24px\"viewBox=\"0 0 24 24\"\n",
              "       width=\"24px\">\n",
              "    <path d=\"M0 0h24v24H0V0z\" fill=\"none\"/>\n",
              "    <path d=\"M18.56 5.44l.94 2.06.94-2.06 2.06-.94-2.06-.94-.94-2.06-.94 2.06-2.06.94zm-11 1L8.5 8.5l.94-2.06 2.06-.94-2.06-.94L8.5 2.5l-.94 2.06-2.06.94zm10 10l.94 2.06.94-2.06 2.06-.94-2.06-.94-.94-2.06-.94 2.06-2.06.94z\"/><path d=\"M17.41 7.96l-1.37-1.37c-.4-.4-.92-.59-1.43-.59-.52 0-1.04.2-1.43.59L10.3 9.45l-7.72 7.72c-.78.78-.78 2.05 0 2.83L4 21.41c.39.39.9.59 1.41.59.51 0 1.02-.2 1.41-.59l7.78-7.78 2.81-2.81c.8-.78.8-2.07 0-2.86zM5.41 20L4 18.59l7.72-7.72 1.47 1.35L5.41 20z\"/>\n",
              "  </svg>\n",
              "      </button>\n",
              "      \n",
              "  <style>\n",
              "    .colab-df-container {\n",
              "      display:flex;\n",
              "      flex-wrap:wrap;\n",
              "      gap: 12px;\n",
              "    }\n",
              "\n",
              "    .colab-df-convert {\n",
              "      background-color: #E8F0FE;\n",
              "      border: none;\n",
              "      border-radius: 50%;\n",
              "      cursor: pointer;\n",
              "      display: none;\n",
              "      fill: #1967D2;\n",
              "      height: 32px;\n",
              "      padding: 0 0 0 0;\n",
              "      width: 32px;\n",
              "    }\n",
              "\n",
              "    .colab-df-convert:hover {\n",
              "      background-color: #E2EBFA;\n",
              "      box-shadow: 0px 1px 2px rgba(60, 64, 67, 0.3), 0px 1px 3px 1px rgba(60, 64, 67, 0.15);\n",
              "      fill: #174EA6;\n",
              "    }\n",
              "\n",
              "    [theme=dark] .colab-df-convert {\n",
              "      background-color: #3B4455;\n",
              "      fill: #D2E3FC;\n",
              "    }\n",
              "\n",
              "    [theme=dark] .colab-df-convert:hover {\n",
              "      background-color: #434B5C;\n",
              "      box-shadow: 0px 1px 3px 1px rgba(0, 0, 0, 0.15);\n",
              "      filter: drop-shadow(0px 1px 2px rgba(0, 0, 0, 0.3));\n",
              "      fill: #FFFFFF;\n",
              "    }\n",
              "  </style>\n",
              "\n",
              "      <script>\n",
              "        const buttonEl =\n",
              "          document.querySelector('#df-01a55cc5-ac30-4464-bbdd-c16d7b62c8b0 button.colab-df-convert');\n",
              "        buttonEl.style.display =\n",
              "          google.colab.kernel.accessAllowed ? 'block' : 'none';\n",
              "\n",
              "        async function convertToInteractive(key) {\n",
              "          const element = document.querySelector('#df-01a55cc5-ac30-4464-bbdd-c16d7b62c8b0');\n",
              "          const dataTable =\n",
              "            await google.colab.kernel.invokeFunction('convertToInteractive',\n",
              "                                                     [key], {});\n",
              "          if (!dataTable) return;\n",
              "\n",
              "          const docLinkHtml = 'Like what you see? Visit the ' +\n",
              "            '<a target=\"_blank\" href=https://colab.research.google.com/notebooks/data_table.ipynb>data table notebook</a>'\n",
              "            + ' to learn more about interactive tables.';\n",
              "          element.innerHTML = '';\n",
              "          dataTable['output_type'] = 'display_data';\n",
              "          await google.colab.output.renderOutput(dataTable, element);\n",
              "          const docLink = document.createElement('div');\n",
              "          docLink.innerHTML = docLinkHtml;\n",
              "          element.appendChild(docLink);\n",
              "        }\n",
              "      </script>\n",
              "    </div>\n",
              "  </div>\n",
              "  "
            ]
          },
          "metadata": {}
        }
      ]
    },
    {
      "cell_type": "code",
      "source": [
        "from PIL import Image\n",
        "import requests\n",
        "from io import BytesIO"
      ],
      "metadata": {
        "id": "bRtV7mEgnCEp"
      },
      "execution_count": null,
      "outputs": []
    },
    {
      "cell_type": "code",
      "source": [
        "def show_info(data, video_id):\n",
        "    video = data.iloc[video_id]\n",
        "    print(\"Описание фильма с номером\", video_id)\n",
        "    print(video['description'])\n",
        "    response = requests.get(video['thumbnail_medium'])\n",
        "    thumbnail = Image.open(BytesIO(response.content))\n",
        "    display(thumbnail)"
      ],
      "metadata": {
        "id": "G40jrNYdm64I"
      },
      "execution_count": null,
      "outputs": []
    },
    {
      "cell_type": "code",
      "source": [
        "show_info(data_clean, 23)"
      ],
      "metadata": {
        "colab": {
          "base_uri": "https://localhost:8080/",
          "height": 503
        },
        "id": "E3hIGS02mfGe",
        "outputId": "691053e8-31ae-4af5-bf8f-02d6cc4096ee"
      },
      "execution_count": null,
      "outputs": [
        {
          "output_type": "stream",
          "name": "stdout",
          "text": [
            "Описание фильма с номером 23\n",
            "We haven't got time to label things, so can we let the computers work it out for themselves? Professor Uwe Aickelin explains supervised and un-supervised methods of machine learning.\n",
            "\n",
            "Silicon Brain: 1,000,000 ARM Cores: https://youtu.be/2e06C-yUwlc \n",
            "Brian Kerninghan on Bell Labs: https://youtu.be/QFK6RG47bww\n",
            "Could We Ban Encryption?: https://youtu.be/ShUyfk4QB-8 \n",
            "Computer That Changed Everything - Altair 8800: https://youtu.be/6LYRgrqJgDc\n",
            "\n",
            "http://www.facebook.com/computerphile\n",
            "https://twitter.com/computer_phile\n",
            "\n",
            "This video was filmed and edited by Sean Riley.\n",
            "\n",
            "Computer Science at the University of Nottingham: http://bit.ly/nottscomputer\n",
            "\n",
            "Computerphile is a sister project to Brady Haran's Numberphile. More at http://www.bradyharan.com\n"
          ]
        },
        {
          "output_type": "display_data",
          "data": {
            "text/plain": [
              "<PIL.JpegImagePlugin.JpegImageFile image mode=RGB size=320x180 at 0x7F1ED443CFA0>"
            ],
            "image/png": "[encoded data removed]"
          },
          "metadata": {}
        }
      ]
    },
    {
      "cell_type": "code",
      "source": [
        "def show_predictions(data, model):\n",
        "    video_id = int(input())\n",
        "    print(\"ВХОДНЫЕ ДАННЫЕ:\")\n",
        "    show_info(data, video_id)\n",
        "    print(\"------------------\\n\\n\")\n",
        "    print(\"ПРЕДСКАЗАНИЯ\")\n",
        "    \n",
        "    prediction = predict_top3(video_id, data, model)\n",
        "    for i in range(3):\n",
        "        show_info(data, i)\n",
        "        print('\\n\\n')"
      ],
      "metadata": {
        "id": "U7rruMIsnYzD"
      },
      "execution_count": null,
      "outputs": []
    },
    {
      "cell_type": "code",
      "source": [
        "show_predictions(data_clean, nlp)"
      ],
      "metadata": {
        "id": "hwgdpPjhoBjz"
      },
      "execution_count": null,
      "outputs": []
    },
    {
      "cell_type": "markdown",
      "source": [
        "### Сделаем интерфейс отдельно от ноутбука"
      ],
      "metadata": {
        "id": "jlRPoDMrojbJ"
      }
    },
    {
      "cell_type": "code",
      "source": [
        "!pip install jupyter-dash"
      ],
      "metadata": {
        "id": "lvVyIYitoD47"
      },
      "execution_count": null,
      "outputs": []
    },
    {
      "cell_type": "code",
      "source": [
        "from jupyter_dash import JupyterDash\n",
        "import dash_core_components as dcc\n",
        "import dash_html_components as html\n",
        "from dash.dependencies import Input, State, Output\n",
        "\n",
        "app = JupyterDash(__name__)\n",
        "\n",
        "app.layout = html.Div([\n",
        "    html.Div(dcc.Input(id='input-on-submit', type='text')),\n",
        "    html.Button('Submit', id='submit-val', n_clicks=0),\n",
        "    html.Div(id='container-button-basic',\n",
        "             children='Enter a value and press submit'),\n",
        "])\n",
        "\n",
        "\n",
        "@app.callback(\n",
        "    Output('container-button-basic', 'children'),\n",
        "    Input('submit-val', 'n_clicks'),\n",
        "    State('input-on-submit', 'value')\n",
        ")\n",
        "def update_output(n_clicks, value):\n",
        "    prediction = predict_top3(int(value), data_clean, nlp)\n",
        "\n",
        "    output = []\n",
        "    for i in range(3):\n",
        "      output.append('Описание для видео с индексом: ')\n",
        "      output.append(str(prediction.index[i]))\n",
        "      output.append(html.Br())\n",
        "      output.append(prediction.iloc[i]['description'])\n",
        "      output.append(html.Br())\n",
        "      output.append(html.Br())\n",
        "      output.append(html.Br())\n",
        "\n",
        "    return html.P(output)\n",
        "\n",
        "app.run_server(host='0.0.0.0')"
      ],
      "metadata": {
        "colab": {
          "base_uri": "https://localhost:8080/",
          "height": 52
        },
        "id": "MJnhBTfIo5V-",
        "outputId": "ef30aa18-506e-41a1-e1a3-1cb86fb6d13b"
      },
      "execution_count": null,
      "outputs": [
        {
          "output_type": "stream",
          "name": "stdout",
          "text": [
            "Dash app running on:\n"
          ]
        },
        {
          "output_type": "display_data",
          "data": {
            "text/plain": [
              "<IPython.core.display.Javascript object>"
            ],
            "application/javascript": [
              "(async (port, path, text, element) => {\n",
              "    if (!google.colab.kernel.accessAllowed) {\n",
              "      return;\n",
              "    }\n",
              "    element.appendChild(document.createTextNode(''));\n",
              "    const url = await google.colab.kernel.proxyPort(port);\n",
              "    const anchor = document.createElement('a');\n",
              "    anchor.href = new URL(path, url).toString();\n",
              "    anchor.target = '_blank';\n",
              "    anchor.setAttribute('data-href', url + path);\n",
              "    anchor.textContent = text;\n",
              "    element.appendChild(anchor);\n",
              "  })(8050, \"/\", \"http://0.0.0.0:8050/\", window.element)"
            ]
          },
          "metadata": {}
        }
      ]
    }
  ]
}