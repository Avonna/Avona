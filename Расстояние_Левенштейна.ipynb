{
  "nbformat": 4,
  "nbformat_minor": 0,
  "metadata": {
    "colab": {
      "provenance": [],
      "authorship_tag": "ABX9TyMSRVFaMow5o7YnKunB2o6L",
      "include_colab_link": true
    },
    "kernelspec": {
      "name": "python3",
      "display_name": "Python 3"
    },
    "language_info": {
      "name": "python"
    }
  },
  "cells": [
    {
      "cell_type": "markdown",
      "metadata": {
        "id": "view-in-github",
        "colab_type": "text"
      },
      "source": [
        "<a href=\"https://colab.research.google.com/github/Avonna/Avona/blob/main/%D0%A0%D0%B0%D1%81%D1%81%D1%82%D0%BE%D1%8F%D0%BD%D0%B8%D0%B5_%D0%9B%D0%B5%D0%B2%D0%B5%D0%BD%D1%88%D1%82%D0%B5%D0%B9%D0%BD%D0%B0.ipynb\" target=\"_parent\"><img src=\"https://colab.research.google.com/assets/colab-badge.svg\" alt=\"Open In Colab\"/></a>"
      ]
    },
    {
      "cell_type": "markdown",
      "source": [
        "#Расстояние Левенштейна\n",
        "Данный код вычисляет по рекуррентной формуле расстояние между двумя строками методом Вагнера — Фишера\n",
        "\n",
        "$$\n",
        "\\text{D}(i,j) =\n",
        "\\begin{cases}\n",
        "0, & \\text i = 0 \\text{, } j = 0 \\\\\n",
        "i, & \\text j = 0 \\text{, } i > 0 \\\\\n",
        "j, & \\text i = 0 \\text{, } j > 0 \\\\\n",
        "\\min \\left\\{\n",
        "\\begin{array}{l}\n",
        "\\text{D}(i,j-1) + 1, \\\\\n",
        "\\text{D}(i-1,j) + 1, \\\\\n",
        "\\text{D}(i-1,j-1) + \\ m(S_{1}[i],S_{2}[j])\n",
        "\\end{array}\n",
        "\\right.\n",
        "\\end{cases}\n",
        "$$\n",
        "$$\n",
        "$$\n",
        "$$\\text где \\text  { } S_{1}[i],S_{2}[j] \\text{ — символы, соответствующие ячейкам i и j}\n",
        "$$\n",
        "$$\n",
        "$$\n",
        "$$\n",
        "\\text m(S_{1}[i],S_{2}[j]) =\n",
        "\\begin{cases}\n",
        "1 & \\text{если символы } S_{1}[i] \\text{ и } S_{2}[i] \\text{ не равны друг другу}, \\\\\n",
        "0 & \\text{если равны}.\n",
        "\\end{cases}\n",
        "$$\n",
        "\n",
        "выводит каждый элемент матрицы D и итоговое значение.\n",
        "Вдохновилась [статьей](https://habr.com/ru/articles/676858/#habracut)"
      ],
      "metadata": {
        "id": "TeImILaYPnrl"
      }
    },
    {
      "cell_type": "code",
      "source": [
        "str_1 = input(\"Введите первое слово для сравнения \")\n",
        "str_2 = input(\"Введите второе слово для сравнения \")\n",
        "n = len(str_1)\n",
        "m = len(str_2)\n",
        "\n",
        "# Создаем матрицу расстояний\n",
        "dp = [[0] * (n + 1) for _ in range(m + 1)]\n",
        "\n",
        "# Инициализируем первую строку и первый столбец\n",
        "for i in range(m + 1):\n",
        "    dp[i][0] = i\n",
        "for j in range(n + 1):\n",
        "    dp[0][j] = j\n",
        "\n",
        "# Заполняем матрицу расстояний\n",
        "for i in range(1, m + 1):\n",
        "    for j in range(1, n + 1):\n",
        "        cost = 0 if str_1[j - 1] == str_2[i - 1] else 1\n",
        "        dp[i][j] = min(dp[i - 1][j] + 1, dp[i][j - 1] + 1, dp[i - 1][j - 1] + cost)\n",
        "\n",
        "# Выводим матрицу расстояний\n",
        "print(\"\\t\", end=\"\\t\")\n",
        "for char in str_1:\n",
        "    print(char, end=\"\\t\")\n",
        "print()\n",
        "for i in range(m + 1):\n",
        "    if i > 0:\n",
        "        print(str_2[i - 1], end=\"\\t\")\n",
        "    else:\n",
        "        print(\"\\t\", end=\"\")\n",
        "    for j in range(n + 1):\n",
        "        print(dp[i][j], end=\"\\t\")\n",
        "    print()\n",
        "print()\n",
        "print(f\"Значение расстояния Левенштейна между строками \\033[31m{str_1}\\033[0m и \\033[31m{str_2}\\033[0m равно: \\033[31m{dp[m][n]}\\033[0m\")"
      ],
      "metadata": {
        "colab": {
          "base_uri": "https://localhost:8080/"
        },
        "id": "YF1s5DY0PSi1",
        "outputId": "706f892d-8444-474b-d9c2-747a20759e6c"
      },
      "execution_count": 44,
      "outputs": [
        {
          "output_type": "stream",
          "name": "stdout",
          "text": [
            "Введите первое слово для сравнения Расстояние\n",
            "Введите второе слово для сравнения Левенштейна\n",
            "\t\tР\tа\tс\tс\tт\tо\tя\tн\tи\tе\t\n",
            "\t0\t1\t2\t3\t4\t5\t6\t7\t8\t9\t10\t\n",
            "Л\t1\t1\t2\t3\t4\t5\t6\t7\t8\t9\t10\t\n",
            "е\t2\t2\t2\t3\t4\t5\t6\t7\t8\t9\t9\t\n",
            "в\t3\t3\t3\t3\t4\t5\t6\t7\t8\t9\t10\t\n",
            "е\t4\t4\t4\t4\t4\t5\t6\t7\t8\t9\t9\t\n",
            "н\t5\t5\t5\t5\t5\t5\t6\t7\t7\t8\t9\t\n",
            "ш\t6\t6\t6\t6\t6\t6\t6\t7\t8\t8\t9\t\n",
            "т\t7\t7\t7\t7\t7\t6\t7\t7\t8\t9\t9\t\n",
            "е\t8\t8\t8\t8\t8\t7\t7\t8\t8\t9\t9\t\n",
            "й\t9\t9\t9\t9\t9\t8\t8\t8\t9\t9\t10\t\n",
            "н\t10\t10\t10\t10\t10\t9\t9\t9\t8\t9\t10\t\n",
            "а\t11\t11\t10\t11\t11\t10\t10\t10\t9\t9\t10\t\n",
            "\n",
            "Значение расстояния Левенштейна между строками \u001b[31mРасстояние\u001b[0m и \u001b[31mЛевенштейна\u001b[0m равно: \u001b[31m10\u001b[0m\n"
          ]
        }
      ]
    }
  ]
}