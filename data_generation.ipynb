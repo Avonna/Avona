{
  "cells": [
    {
      "cell_type": "markdown",
      "metadata": {
        "id": "view-in-github",
        "colab_type": "text"
      },
      "source": [
        "<a href=\"https://colab.research.google.com/github/Avonna/Avona/blob/main/data_generation.ipynb\" target=\"_parent\"><img src=\"https://colab.research.google.com/assets/colab-badge.svg\" alt=\"Open In Colab\"/></a>"
      ]
    },
    {
      "cell_type": "markdown",
      "metadata": {
        "id": "78cdXyS46dgl"
      },
      "source": [
        "К примеру, мы хотим получить датасет с транзакциями клиентов. Датасет должен включать в себя дату транзакции (date), имя клиента (client_name) и сумму транзакции (trans_amount)"
      ]
    },
    {
      "cell_type": "code",
      "execution_count": null,
      "metadata": {
        "id": "nS9khR-s6dgr"
      },
      "outputs": [],
      "source": [
        "#импортируем библиотеки\n",
        "import pandas as pd\n",
        "import random\n",
        "\n",
        "#задаем выборку допустимых значений\n",
        "#значения для поля user_name\n",
        "clients = ['Петя', 'Маша', 'Саша', 'Катя']\n",
        "\n",
        "#значения для поля trans_amount. список значений от 10 до 999\n",
        "amount = list(range(10,1000))\n",
        "\n",
        "#значение поля date (берем промежуток дат с 1 января 2022 до 31 декабря 2022)\n",
        "dates = pd.date_range('1/1/2022', '12/31/2022')\n",
        "#преобразуем даты в список\n",
        "dates_df = pd.Series(dates)\n",
        "dates_list = dates_df.to_list()\n",
        "\n",
        "#создаем записи данных с рандомными значениями из допустимых значений, записываем результаты в список data\n",
        "data = []\n",
        "\n",
        "#задаем количество строк в будущем датафрейме, которые мы генерируем (в данном примере 1000 строк)\n",
        "for i in range(1000):\n",
        "          #генерируем каждую строку с выбором рандомного значения из наших допустимых значений \n",
        "          row = [random.choice(dates_list), random.choice(clients), random.choice(amount)]\n",
        "          data.append(row)\n",
        "\n",
        "#создаем датафрейм из созданных данных           \n",
        "df = pd.DataFrame(data, columns=['date', 'client_name', 'trans_amount'])"
      ]
    },
    {
      "cell_type": "code",
      "execution_count": null,
      "metadata": {
        "id": "qXbuwnOA6dgt",
        "outputId": "c7c0505c-5047-44d8-da66-43508d2bd2ba"
      },
      "outputs": [
        {
          "data": {
            "text/html": [
              "<div>\n",
              "<style scoped>\n",
              "    .dataframe tbody tr th:only-of-type {\n",
              "        vertical-align: middle;\n",
              "    }\n",
              "\n",
              "    .dataframe tbody tr th {\n",
              "        vertical-align: top;\n",
              "    }\n",
              "\n",
              "    .dataframe thead th {\n",
              "        text-align: right;\n",
              "    }\n",
              "</style>\n",
              "<table border=\"1\" class=\"dataframe\">\n",
              "  <thead>\n",
              "    <tr style=\"text-align: right;\">\n",
              "      <th></th>\n",
              "      <th>date</th>\n",
              "      <th>client_name</th>\n",
              "      <th>trans_amount</th>\n",
              "    </tr>\n",
              "  </thead>\n",
              "  <tbody>\n",
              "    <tr>\n",
              "      <th>0</th>\n",
              "      <td>2022-01-07</td>\n",
              "      <td>Катя</td>\n",
              "      <td>934</td>\n",
              "    </tr>\n",
              "    <tr>\n",
              "      <th>1</th>\n",
              "      <td>2022-06-12</td>\n",
              "      <td>Петя</td>\n",
              "      <td>50</td>\n",
              "    </tr>\n",
              "    <tr>\n",
              "      <th>2</th>\n",
              "      <td>2022-11-29</td>\n",
              "      <td>Саша</td>\n",
              "      <td>736</td>\n",
              "    </tr>\n",
              "    <tr>\n",
              "      <th>3</th>\n",
              "      <td>2022-08-18</td>\n",
              "      <td>Маша</td>\n",
              "      <td>704</td>\n",
              "    </tr>\n",
              "    <tr>\n",
              "      <th>4</th>\n",
              "      <td>2022-09-07</td>\n",
              "      <td>Саша</td>\n",
              "      <td>472</td>\n",
              "    </tr>\n",
              "    <tr>\n",
              "      <th>...</th>\n",
              "      <td>...</td>\n",
              "      <td>...</td>\n",
              "      <td>...</td>\n",
              "    </tr>\n",
              "    <tr>\n",
              "      <th>995</th>\n",
              "      <td>2022-11-14</td>\n",
              "      <td>Саша</td>\n",
              "      <td>260</td>\n",
              "    </tr>\n",
              "    <tr>\n",
              "      <th>996</th>\n",
              "      <td>2022-04-21</td>\n",
              "      <td>Катя</td>\n",
              "      <td>45</td>\n",
              "    </tr>\n",
              "    <tr>\n",
              "      <th>997</th>\n",
              "      <td>2022-07-20</td>\n",
              "      <td>Саша</td>\n",
              "      <td>454</td>\n",
              "    </tr>\n",
              "    <tr>\n",
              "      <th>998</th>\n",
              "      <td>2022-07-31</td>\n",
              "      <td>Маша</td>\n",
              "      <td>660</td>\n",
              "    </tr>\n",
              "    <tr>\n",
              "      <th>999</th>\n",
              "      <td>2022-11-09</td>\n",
              "      <td>Маша</td>\n",
              "      <td>767</td>\n",
              "    </tr>\n",
              "  </tbody>\n",
              "</table>\n",
              "<p>1000 rows × 3 columns</p>\n",
              "</div>"
            ],
            "text/plain": [
              "          date client_name  trans_amount\n",
              "0   2022-01-07        Катя           934\n",
              "1   2022-06-12        Петя            50\n",
              "2   2022-11-29        Саша           736\n",
              "3   2022-08-18        Маша           704\n",
              "4   2022-09-07        Саша           472\n",
              "..         ...         ...           ...\n",
              "995 2022-11-14        Саша           260\n",
              "996 2022-04-21        Катя            45\n",
              "997 2022-07-20        Саша           454\n",
              "998 2022-07-31        Маша           660\n",
              "999 2022-11-09        Маша           767\n",
              "\n",
              "[1000 rows x 3 columns]"
            ]
          },
          "execution_count": 22,
          "metadata": {},
          "output_type": "execute_result"
        }
      ],
      "source": [
        "df"
      ]
    },
    {
      "cell_type": "code",
      "execution_count": null,
      "metadata": {
        "id": "879NFoIx6dgu",
        "outputId": "4b43a9fb-64c7-4120-ce5a-55ee2af5f248"
      },
      "outputs": [
        {
          "name": "stdout",
          "output_type": "stream",
          "text": [
            "<class 'pandas.core.frame.DataFrame'>\n",
            "RangeIndex: 1000 entries, 0 to 999\n",
            "Data columns (total 3 columns):\n",
            " #   Column        Non-Null Count  Dtype         \n",
            "---  ------        --------------  -----         \n",
            " 0   date          1000 non-null   datetime64[ns]\n",
            " 1   user_name     1000 non-null   object        \n",
            " 2   trans_amount  1000 non-null   int64         \n",
            "dtypes: datetime64[ns](1), int64(1), object(1)\n",
            "memory usage: 23.6+ KB\n"
          ]
        }
      ],
      "source": [
        "df.info()"
      ]
    }
  ],
  "metadata": {
    "kernelspec": {
      "display_name": "Python 3",
      "language": "python",
      "name": "python3"
    },
    "language_info": {
      "codemirror_mode": {
        "name": "ipython",
        "version": 3
      },
      "file_extension": ".py",
      "mimetype": "text/x-python",
      "name": "python",
      "nbconvert_exporter": "python",
      "pygments_lexer": "ipython3",
      "version": "3.10.4"
    },
    "orig_nbformat": 4,
    "vscode": {
      "interpreter": {
        "hash": "3e5df068846dd857fd8f6e2337ec975361106f93a8ad476be75c82b4dc19b61a"
      }
    },
    "colab": {
      "provenance": [],
      "include_colab_link": true
    }
  },
  "nbformat": 4,
  "nbformat_minor": 0
}