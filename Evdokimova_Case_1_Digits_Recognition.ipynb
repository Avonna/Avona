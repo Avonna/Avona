{
  "nbformat": 4,
  "nbformat_minor": 0,
  "metadata": {
    "colab": {
      "provenance": [],
      "include_colab_link": true
    },
    "kernelspec": {
      "name": "python3",
      "display_name": "Python 3"
    },
    "language_info": {
      "name": "python"
    }
  },
  "cells": [
    {
      "cell_type": "markdown",
      "metadata": {
        "id": "view-in-github",
        "colab_type": "text"
      },
      "source": [
        "<a href=\"https://colab.research.google.com/github/Avonna/Avona/blob/main/Evdokimova_Case_1_Digits_Recognition.ipynb\" target=\"_parent\"><img src=\"https://colab.research.google.com/assets/colab-badge.svg\" alt=\"Open In Colab\"/></a>"
      ]
    },
    {
      "cell_type": "code",
      "source": [
        "#импортируем библиотеки\n",
        "import matplotlib.pyplot as plt #matplotlib для визуализации\n",
        "import numpy as np #numpy для работа с матрицами\n",
        "import pandas as pd #для хранения истории обучения и ее визуализации\n",
        "from sklearn.metrics import classification_report#отчет по классификации\n",
        "from sklearn.metrics import confusion_matrix #матрица ошибок\n",
        "from sklearn.datasets import load_digits #загрузчик датасетов\n",
        "from sklearn.model_selection import train_test_split #авторазбиение\n",
        "from tensorflow.keras.models import Sequential #последовательная модель (прямого распространения)\n",
        "from tensorflow.keras.layers import Dense #полносвязный слой\n",
        "from tensorflow.keras import optimizers #оптимизаторы\n",
        "from tensorflow.keras.utils import to_categorical #преобразование в категориальные данные\n",
        "\n",
        "\n",
        "#загружаем датасет с рукописными цифрами\n",
        "digits = load_digits()"
      ],
      "metadata": {
        "id": "AIl_s1P1Bd1E"
      },
      "execution_count": 64,
      "outputs": []
    },
    {
      "cell_type": "code",
      "source": [
        "#изучим форматы хранения\n",
        "print('Количество изображений и их ширина и высота: ', digits.images.shape) #1797 изображений размером 8x8\n",
        "print('Количество объектов и признаков в данных: ', digits.data.shape) #1797 изображений с 64 признаками (признак - яркость каждого пикселя)\n",
        "print('Количество меток: ', digits.target.shape) #1797 лейблов"
      ],
      "metadata": {
        "colab": {
          "base_uri": "https://localhost:8080/"
        },
        "id": "f0wyx6JoFQYO",
        "outputId": "b9bfca13-c4a5-44ef-921e-4be55d02a48d"
      },
      "execution_count": 65,
      "outputs": [
        {
          "output_type": "stream",
          "name": "stdout",
          "text": [
            "Количество изображений и их ширина и высота:  (1797, 8, 8)\n",
            "Количество объектов и признаков в данных:  (1797, 64)\n",
            "Количество меток:  (1797,)\n"
          ]
        }
      ]
    },
    {
      "cell_type": "code",
      "source": [
        "#выведем одно изображение для примера\n",
        "sample_index = 90 #номер случайного изображения\n",
        "plt.figure(figsize=(3, 3)) #размер фигуры для визуализации\n",
        "plt.imshow(digits.images[sample_index], cmap=plt.cm.gray_r, interpolation='nearest') #вывод изображения в ч/б формате\n",
        "plt.title(\"image label: %d\" % digits.target[sample_index]) #подпись изображения с классом картинки"
      ],
      "metadata": {
        "colab": {
          "base_uri": "https://localhost:8080/",
          "height": 244
        },
        "id": "IMszaQgPBmoy",
        "outputId": "c824ee79-13f8-46ac-fdfe-36b2a1c3ef85"
      },
      "execution_count": 66,
      "outputs": [
        {
          "output_type": "execute_result",
          "data": {
            "text/plain": [
              "Text(0.5, 1.0, 'image label: 1')"
            ]
          },
          "metadata": {},
          "execution_count": 66
        },
        {
          "output_type": "display_data",
          "data": {
            "text/plain": [
              "<Figure size 216x216 with 1 Axes>"
            ],
            "image/png": "[encoded data removed]"
          },
          "metadata": {
            "needs_background": "light"
          }
        }
      ]
    },
    {
      "cell_type": "code",
      "source": [
        "#получим все данные и оставим только изображения 0 и 1\n",
        "data = np.asarray(digits.data, dtype='float32') #преобразуем данные входа в массив numpy\n",
        "target = np.asarray(digits.target, dtype='int32') #преобразуем данные выхода в массив numpy\n",
        "data01 = data[target <=1] #входы для 0 и 1\n",
        "target01 = target[target <=1] #выходы для 0 и 1"
      ],
      "metadata": {
        "id": "eYwUYajvB3Ee"
      },
      "execution_count": 67,
      "outputs": []
    },
    {
      "cell_type": "code",
      "source": [
        "#изучим форматы хранения урезанного датасета\n",
        "print('Количество объектов и признаков в данных: ', data01.shape) #360 изображений с 64 признаками (признак - яркость каждого пикселя)\n",
        "print('Количество меток: ', target01.shape) #360 лейблов"
      ],
      "metadata": {
        "colab": {
          "base_uri": "https://localhost:8080/"
        },
        "id": "P1jYkLB7Bzf_",
        "outputId": "5f0d04e3-28fc-476d-f1ad-0a5e4e2a207f"
      },
      "execution_count": 68,
      "outputs": [
        {
          "output_type": "stream",
          "name": "stdout",
          "text": [
            "Количество объектов и признаков в данных:  (360, 64)\n",
            "Количество меток:  (360,)\n"
          ]
        }
      ]
    },
    {
      "cell_type": "code",
      "source": [
        "#разобьем выборку на обучающую и тестовую\n",
        "X_train, X_test, y_train, y_test = train_test_split(data01, target01, test_size=0.15, random_state=37) #15% на тест, неслучайная повторяемость по состоянию 37\n",
        "print('Количество объектов и признаков в обучающих данных: ', X_train.shape) #306 изображений с 64 признаками (признак - яркость каждого пикселя)\n",
        "print('Количество меток в обучающих данных: ', y_train.shape) #360 лейблов\n",
        "print('Количество объектов и признаков в тестовых данных: ', X_test.shape) #360 изображений с 64 признаками (признак - яркость каждого пикселя)\n",
        "print('Количество меток в тестовых данных: ', y_test.shape) #360 лейблов"
      ],
      "metadata": {
        "colab": {
          "base_uri": "https://localhost:8080/"
        },
        "id": "KHexnShWGre4",
        "outputId": "6a921985-07df-4726-9d10-cb36c6c46313"
      },
      "execution_count": 69,
      "outputs": [
        {
          "output_type": "stream",
          "name": "stdout",
          "text": [
            "Количество объектов и признаков в обучающих данных:  (306, 64)\n",
            "Количество меток в обучающих данных:  (306,)\n",
            "Количество объектов и признаков в тестовых данных:  (54, 64)\n",
            "Количество меток в тестовых данных:  (54,)\n"
          ]
        }
      ]
    },
    {
      "cell_type": "code",
      "source": [
        "#преобразуем с помощью one-hot encoding в категориальные данные выходные\n",
        "Y_train = to_categorical(y_train) #создается матрица из K = число классов столбцов, в которой 1 стоит только в том столбце, какое в данной строке было значение y\n",
        "Y_train[:5] #выведем 5 первых целевых признаков (0, 0, 1, 0, 0)"
      ],
      "metadata": {
        "colab": {
          "base_uri": "https://localhost:8080/"
        },
        "id": "QqUd8fpgHvgR",
        "outputId": "68a5cf15-e11d-4a8d-f128-9117ea0f1be5"
      },
      "execution_count": 70,
      "outputs": [
        {
          "output_type": "execute_result",
          "data": {
            "text/plain": [
              "array([[1., 0.],\n",
              "       [1., 0.],\n",
              "       [0., 1.],\n",
              "       [1., 0.],\n",
              "       [1., 0.]], dtype=float32)"
            ]
          },
          "metadata": {},
          "execution_count": 70
        }
      ]
    },
    {
      "cell_type": "code",
      "execution_count": 71,
      "metadata": {
        "colab": {
          "base_uri": "https://localhost:8080/"
        },
        "id": "Am-nk5YxArRi",
        "outputId": "ce4ca20b-6dff-4e4a-e3a2-bb355c1e50ee"
      },
      "outputs": [
        {
          "output_type": "stream",
          "name": "stdout",
          "text": [
            "Epoch 1/5\n",
            "4/4 [==============================] - 1s 80ms/step - loss: 1.2446 - accuracy: 0.7992 - val_loss: 0.5710 - val_accuracy: 0.8548\n",
            "Epoch 2/5\n",
            "4/4 [==============================] - 0s 16ms/step - loss: 0.5054 - accuracy: 0.8934 - val_loss: 0.3785 - val_accuracy: 0.9032\n",
            "Epoch 3/5\n",
            "4/4 [==============================] - 0s 21ms/step - loss: 0.3539 - accuracy: 0.9180 - val_loss: 0.2815 - val_accuracy: 0.9355\n",
            "Epoch 4/5\n",
            "4/4 [==============================] - 0s 15ms/step - loss: 0.2728 - accuracy: 0.9385 - val_loss: 0.2204 - val_accuracy: 0.9355\n",
            "Epoch 5/5\n",
            "4/4 [==============================] - 0s 15ms/step - loss: 0.2234 - accuracy: 0.9467 - val_loss: 0.1796 - val_accuracy: 0.9516\n"
          ]
        }
      ],
      "source": [
        "#смоделируем нейронную сеть\n",
        "input_dim = X_train.shape[1] #размер входного слоя (64 признака)\n",
        "hidden_dim = 128 #размер скрытого слоя (произвольный, выбрали 128 нейронов)\n",
        "output_dim = Y_train.shape[1] #размер выходного слоя (2 класса)\n",
        "\n",
        "model = Sequential() #создаем последовательное соединение слоев с прямым распространением\n",
        "model.add(Dense(hidden_dim, input_dim=input_dim, activation=\"relu\")) #добавляем скрытый слой с активацией relu\n",
        "model.add(Dense(output_dim, activation=\"sigmoid\")) #создаем выходной слой с активацией сигмоид (важно, что для большего числа классов, чем 2, следует использовать softmax)\n",
        "#создаем нейронную сеть с методом градиентного спуска и скоростью обучения 0.0015\n",
        "#в качестве функции потерь выбираем бинарную кросс-энтропию (важно, что для большего числа классов, чем 2, следует использовать категориальную кроссэнтропию)\n",
        "#в качестве основной метрики оцениваем accuracy (долю верных распознаваний)\n",
        "model.compile(optimizer=optimizers.SGD(learning_rate=0.0015), loss='binary_crossentropy', metrics=['accuracy'])\n",
        "#обучаем модель на train датасете, при этом используем 20% данных в качестве валидации (не используем для подстройки весов)\n",
        "#обучаем в течение 5 эпох и используем на одном этапе обучения 64 примера\n",
        "history = model.fit(X_train, Y_train, validation_split=0.2, epochs=5, batch_size=64)"
      ]
    },
    {
      "cell_type": "code",
      "source": [
        "#сохраним историю обучения в датафрейме pandas\n",
        "history_df = pd.DataFrame(history.history) #создаем датафрейм и записываем туда метрики из истории\n",
        "history_df[\"epoch\"] = history.epoch #создаем столбец с номерами эпох обучения (начинаем с 0)\n",
        "history_df #выводим датафрейм"
      ],
      "metadata": {
        "colab": {
          "base_uri": "https://localhost:8080/",
          "height": 206
        },
        "id": "W0gKb4vCKGNs",
        "outputId": "a2db1311-531a-4c22-acff-3b39b8631e6e"
      },
      "execution_count": 72,
      "outputs": [
        {
          "output_type": "execute_result",
          "data": {
            "text/plain": [
              "       loss  accuracy  val_loss  val_accuracy  epoch\n",
              "0  1.244588  0.799180  0.570975      0.854839      0\n",
              "1  0.505413  0.893443  0.378508      0.903226      1\n",
              "2  0.353905  0.918033  0.281530      0.935484      2\n",
              "3  0.272768  0.938525  0.220390      0.935484      3\n",
              "4  0.223353  0.946721  0.179601      0.951613      4"
            ],
            "text/html": [
              "\n",
              "  <div id=\"df-5ac74ccf-6203-4515-a7aa-ddf021de7c40\">\n",
              "    <div class=\"colab-df-container\">\n",
              "      <div>\n",
              "<style scoped>\n",
              "    .dataframe tbody tr th:only-of-type {\n",
              "        vertical-align: middle;\n",
              "    }\n",
              "\n",
              "    .dataframe tbody tr th {\n",
              "        vertical-align: top;\n",
              "    }\n",
              "\n",
              "    .dataframe thead th {\n",
              "        text-align: right;\n",
              "    }\n",
              "</style>\n",
              "<table border=\"1\" class=\"dataframe\">\n",
              "  <thead>\n",
              "    <tr style=\"text-align: right;\">\n",
              "      <th></th>\n",
              "      <th>loss</th>\n",
              "      <th>accuracy</th>\n",
              "      <th>val_loss</th>\n",
              "      <th>val_accuracy</th>\n",
              "      <th>epoch</th>\n",
              "    </tr>\n",
              "  </thead>\n",
              "  <tbody>\n",
              "    <tr>\n",
              "      <th>0</th>\n",
              "      <td>1.244588</td>\n",
              "      <td>0.799180</td>\n",
              "      <td>0.570975</td>\n",
              "      <td>0.854839</td>\n",
              "      <td>0</td>\n",
              "    </tr>\n",
              "    <tr>\n",
              "      <th>1</th>\n",
              "      <td>0.505413</td>\n",
              "      <td>0.893443</td>\n",
              "      <td>0.378508</td>\n",
              "      <td>0.903226</td>\n",
              "      <td>1</td>\n",
              "    </tr>\n",
              "    <tr>\n",
              "      <th>2</th>\n",
              "      <td>0.353905</td>\n",
              "      <td>0.918033</td>\n",
              "      <td>0.281530</td>\n",
              "      <td>0.935484</td>\n",
              "      <td>2</td>\n",
              "    </tr>\n",
              "    <tr>\n",
              "      <th>3</th>\n",
              "      <td>0.272768</td>\n",
              "      <td>0.938525</td>\n",
              "      <td>0.220390</td>\n",
              "      <td>0.935484</td>\n",
              "      <td>3</td>\n",
              "    </tr>\n",
              "    <tr>\n",
              "      <th>4</th>\n",
              "      <td>0.223353</td>\n",
              "      <td>0.946721</td>\n",
              "      <td>0.179601</td>\n",
              "      <td>0.951613</td>\n",
              "      <td>4</td>\n",
              "    </tr>\n",
              "  </tbody>\n",
              "</table>\n",
              "</div>\n",
              "      <button class=\"colab-df-convert\" onclick=\"convertToInteractive('df-5ac74ccf-6203-4515-a7aa-ddf021de7c40')\"\n",
              "              title=\"Convert this dataframe to an interactive table.\"\n",
              "              style=\"display:none;\">\n",
              "        \n",
              "  <svg xmlns=\"http://www.w3.org/2000/svg\" height=\"24px\"viewBox=\"0 0 24 24\"\n",
              "       width=\"24px\">\n",
              "    <path d=\"M0 0h24v24H0V0z\" fill=\"none\"/>\n",
              "    <path d=\"M18.56 5.44l.94 2.06.94-2.06 2.06-.94-2.06-.94-.94-2.06-.94 2.06-2.06.94zm-11 1L8.5 8.5l.94-2.06 2.06-.94-2.06-.94L8.5 2.5l-.94 2.06-2.06.94zm10 10l.94 2.06.94-2.06 2.06-.94-2.06-.94-.94-2.06-.94 2.06-2.06.94z\"/><path d=\"M17.41 7.96l-1.37-1.37c-.4-.4-.92-.59-1.43-.59-.52 0-1.04.2-1.43.59L10.3 9.45l-7.72 7.72c-.78.78-.78 2.05 0 2.83L4 21.41c.39.39.9.59 1.41.59.51 0 1.02-.2 1.41-.59l7.78-7.78 2.81-2.81c.8-.78.8-2.07 0-2.86zM5.41 20L4 18.59l7.72-7.72 1.47 1.35L5.41 20z\"/>\n",
              "  </svg>\n",
              "      </button>\n",
              "      \n",
              "  <style>\n",
              "    .colab-df-container {\n",
              "      display:flex;\n",
              "      flex-wrap:wrap;\n",
              "      gap: 12px;\n",
              "    }\n",
              "\n",
              "    .colab-df-convert {\n",
              "      background-color: #E8F0FE;\n",
              "      border: none;\n",
              "      border-radius: 50%;\n",
              "      cursor: pointer;\n",
              "      display: none;\n",
              "      fill: #1967D2;\n",
              "      height: 32px;\n",
              "      padding: 0 0 0 0;\n",
              "      width: 32px;\n",
              "    }\n",
              "\n",
              "    .colab-df-convert:hover {\n",
              "      background-color: #E2EBFA;\n",
              "      box-shadow: 0px 1px 2px rgba(60, 64, 67, 0.3), 0px 1px 3px 1px rgba(60, 64, 67, 0.15);\n",
              "      fill: #174EA6;\n",
              "    }\n",
              "\n",
              "    [theme=dark] .colab-df-convert {\n",
              "      background-color: #3B4455;\n",
              "      fill: #D2E3FC;\n",
              "    }\n",
              "\n",
              "    [theme=dark] .colab-df-convert:hover {\n",
              "      background-color: #434B5C;\n",
              "      box-shadow: 0px 1px 3px 1px rgba(0, 0, 0, 0.15);\n",
              "      filter: drop-shadow(0px 1px 2px rgba(0, 0, 0, 0.3));\n",
              "      fill: #FFFFFF;\n",
              "    }\n",
              "  </style>\n",
              "\n",
              "      <script>\n",
              "        const buttonEl =\n",
              "          document.querySelector('#df-5ac74ccf-6203-4515-a7aa-ddf021de7c40 button.colab-df-convert');\n",
              "        buttonEl.style.display =\n",
              "          google.colab.kernel.accessAllowed ? 'block' : 'none';\n",
              "\n",
              "        async function convertToInteractive(key) {\n",
              "          const element = document.querySelector('#df-5ac74ccf-6203-4515-a7aa-ddf021de7c40');\n",
              "          const dataTable =\n",
              "            await google.colab.kernel.invokeFunction('convertToInteractive',\n",
              "                                                     [key], {});\n",
              "          if (!dataTable) return;\n",
              "\n",
              "          const docLinkHtml = 'Like what you see? Visit the ' +\n",
              "            '<a target=\"_blank\" href=https://colab.research.google.com/notebooks/data_table.ipynb>data table notebook</a>'\n",
              "            + ' to learn more about interactive tables.';\n",
              "          element.innerHTML = '';\n",
              "          dataTable['output_type'] = 'display_data';\n",
              "          await google.colab.output.renderOutput(dataTable, element);\n",
              "          const docLink = document.createElement('div');\n",
              "          docLink.innerHTML = docLinkHtml;\n",
              "          element.appendChild(docLink);\n",
              "        }\n",
              "      </script>\n",
              "    </div>\n",
              "  </div>\n",
              "  "
            ]
          },
          "metadata": {},
          "execution_count": 72
        }
      ]
    },
    {
      "cell_type": "code",
      "source": [
        "#строим кривые обучения\n",
        "fig, (ax0, ax1) = plt.subplots(nrows=2, sharex=True, figsize=(12, 6)) #создаем фигуру и оси для отрисовки 2 графиков\n",
        "history_df.plot(x=\"epoch\", y=[\"loss\", \"val_loss\"], ax=ax0, grid=True) #рисуем значения потерь для обучающих и валидационных данных\n",
        "history_df.plot(x=\"epoch\", y=[\"accuracy\", \"val_accuracy\"], ax=ax1, grid=True) #рисуем значения точности для обучающих и валидационных данных"
      ],
      "metadata": {
        "colab": {
          "base_uri": "https://localhost:8080/",
          "height": 405
        },
        "id": "Sxd5vOyLKQia",
        "outputId": "938e61cf-fe55-4663-a81e-b226e264f168"
      },
      "execution_count": 73,
      "outputs": [
        {
          "output_type": "execute_result",
          "data": {
            "text/plain": [
              "<matplotlib.axes._subplots.AxesSubplot at 0x7fbd4f97c910>"
            ]
          },
          "metadata": {},
          "execution_count": 73
        },
        {
          "output_type": "display_data",
          "data": {
            "text/plain": [
              "<Figure size 864x432 with 2 Axes>"
            ],
            "image/png": "[encoded data removed]"
          },
          "metadata": {
            "needs_background": "light"
          }
        }
      ]
    },
    {
      "cell_type": "code",
      "source": [
        "#сделаем предсказание для выведенного ранее изображения цифры 1\n",
        "sample_index = 90 #номер случайного изображения (цифра 1)\n",
        "img = np.asarray(digits.data[sample_index], dtype='float32') #представим изображение в виде массива numpy\n",
        "img = img.reshape(-1,64) #представим изображение в формате, требуемом для подачи на вход сети\n",
        "print('Распределение вероятностей: ', model.predict(img)) #выполним предсказание (первое - вероятность 0, второе - вероятность 1)\n",
        "print('Это было изображение цифры: ', np.argmax(model.predict(img)))"
      ],
      "metadata": {
        "colab": {
          "base_uri": "https://localhost:8080/"
        },
        "id": "HRSNEPKHLKec",
        "outputId": "e4e8af82-a72a-4c29-9e65-8749ac861710"
      },
      "execution_count": 74,
      "outputs": [
        {
          "output_type": "stream",
          "name": "stdout",
          "text": [
            "1/1 [==============================] - 0s 58ms/step\n",
            "Распределение вероятностей:  [[0.08268733 0.99981964]]\n",
            "1/1 [==============================] - 0s 25ms/step\n",
            "Это было изображение цифры:  1\n"
          ]
        }
      ]
    },
    {
      "cell_type": "code",
      "source": [
        "#сделаем прогноз для всех тестовых данных и оценим его\n",
        "y_pred = np.argmax(model.predict(X_test), axis=1) #прогнозные значения\n",
        "print('*'*100,'Матрица ошибок', sep='\\n')\n",
        "print(confusion_matrix(y_test,y_pred)) #матрица ошибок (Истинно-положительные, ложно-положительные, ложно-отрицательные, истинно-отрицательные)\n",
        "print('*'*100,'Отчет о классификации', sep='\\n')\n",
        "print(classification_report(y_test, y_pred)) #отчет о классификации (все метрики)"
      ],
      "metadata": {
        "colab": {
          "base_uri": "https://localhost:8080/"
        },
        "id": "vjICXgoUMyuw",
        "outputId": "63f90f5c-84a0-4de2-a1ab-45ecfebefa13"
      },
      "execution_count": 75,
      "outputs": [
        {
          "output_type": "stream",
          "name": "stdout",
          "text": [
            "2/2 [==============================] - 0s 5ms/step\n",
            "****************************************************************************************************\n",
            "Матрица ошибок\n",
            "[[32  1]\n",
            " [ 2 19]]\n",
            "****************************************************************************************************\n",
            "Отчет о классификации\n",
            "              precision    recall  f1-score   support\n",
            "\n",
            "           0       0.94      0.97      0.96        33\n",
            "           1       0.95      0.90      0.93        21\n",
            "\n",
            "    accuracy                           0.94        54\n",
            "   macro avg       0.95      0.94      0.94        54\n",
            "weighted avg       0.94      0.94      0.94        54\n",
            "\n"
          ]
        }
      ]
    },
    {
      "cell_type": "markdown",
      "source": [
        "## Кейс №1"
      ],
      "metadata": {
        "id": "KmoLELcBP3gI"
      }
    },
    {
      "cell_type": "markdown",
      "source": [
        "Вам необходимо исправить код таким образом, чтобы нейронная сеть могла обучаться всем 10 цифрам. А затем оценить обученную модель. Настраивая параметры обучения, постарайтесь добиться значений точности не менее **90%**."
      ],
      "metadata": {
        "id": "9q5tv424QEAO"
      }
    },
    {
      "cell_type": "code",
      "source": [
        "#выведем одно изображение для примера\n",
        "sample_index1 = 63 #номер случайного изображения\n",
        "plt.figure(figsize=(3, 3)) #размер фигуры для визуализации\n",
        "plt.imshow(digits.images[sample_index1], cmap=plt.cm.gray_r, interpolation='nearest') #вывод изображения в ч/б формате\n",
        "plt.title(\"image label: %d\" % digits.target[sample_index1]) #подпись изображения с классом картинки"
      ],
      "metadata": {
        "colab": {
          "base_uri": "https://localhost:8080/",
          "height": 244
        },
        "id": "qAO7_zjAeo0R",
        "outputId": "ea6492ff-f28a-4f4f-fa38-8af9fb8d7fbb"
      },
      "execution_count": 76,
      "outputs": [
        {
          "output_type": "execute_result",
          "data": {
            "text/plain": [
              "Text(0.5, 1.0, 'image label: 3')"
            ]
          },
          "metadata": {},
          "execution_count": 76
        },
        {
          "output_type": "display_data",
          "data": {
            "text/plain": [
              "<Figure size 216x216 with 1 Axes>"
            ],
            "image/png": "[encoded data removed]"
          },
          "metadata": {
            "needs_background": "light"
          }
        }
      ]
    },
    {
      "cell_type": "code",
      "source": [
        "digits.target[63]"
      ],
      "metadata": {
        "colab": {
          "base_uri": "https://localhost:8080/"
        },
        "id": "Oju9Uk7he4xR",
        "outputId": "4f63a78f-7837-462a-b5c4-a1cc62b22c80"
      },
      "execution_count": 77,
      "outputs": [
        {
          "output_type": "execute_result",
          "data": {
            "text/plain": [
              "3"
            ]
          },
          "metadata": {},
          "execution_count": 77
        }
      ]
    },
    {
      "cell_type": "code",
      "source": [
        "data1 = np.asarray(digits.data, dtype='float32') #преобразуем данные входа в массив numpy\n",
        "target1 = np.asarray(digits.target, dtype='int32')"
      ],
      "metadata": {
        "id": "8YPkJuwee1gU"
      },
      "execution_count": 78,
      "outputs": []
    },
    {
      "cell_type": "code",
      "source": [
        "X_train1, X_test1, y_train1, y_test1 = train_test_split(data1, target1, test_size=0.15, random_state=37) \n",
        "print('Количество объектов и признаков в обучающих данных: ', X_train1.shape) \n",
        "print('Количество меток в обучающих данных: ', y_train1.shape) \n",
        "print('Количество объектов и признаков в тестовых данных: ', X_test1.shape) \n",
        "print('Количество меток в тестовых данных: ', y_test1.shape) "
      ],
      "metadata": {
        "colab": {
          "base_uri": "https://localhost:8080/"
        },
        "id": "M6mUkbAFeo2w",
        "outputId": "6f10f5ff-7297-457c-ead1-61a55ae4e58b"
      },
      "execution_count": 79,
      "outputs": [
        {
          "output_type": "stream",
          "name": "stdout",
          "text": [
            "Количество объектов и признаков в обучающих данных:  (1527, 64)\n",
            "Количество меток в обучающих данных:  (1527,)\n",
            "Количество объектов и признаков в тестовых данных:  (270, 64)\n",
            "Количество меток в тестовых данных:  (270,)\n"
          ]
        }
      ]
    },
    {
      "cell_type": "code",
      "source": [
        "Y_train1 = to_categorical(y_train1) \n",
        "Y_train1[:5] "
      ],
      "metadata": {
        "colab": {
          "base_uri": "https://localhost:8080/"
        },
        "id": "Oy9SJhjyeo49",
        "outputId": "15fa9c70-1e88-49d5-bfc2-12c53e66ea3d"
      },
      "execution_count": 80,
      "outputs": [
        {
          "output_type": "execute_result",
          "data": {
            "text/plain": [
              "array([[0., 0., 1., 0., 0., 0., 0., 0., 0., 0.],\n",
              "       [0., 0., 0., 0., 0., 0., 0., 0., 0., 1.],\n",
              "       [0., 0., 0., 0., 0., 1., 0., 0., 0., 0.],\n",
              "       [0., 1., 0., 0., 0., 0., 0., 0., 0., 0.],\n",
              "       [0., 0., 0., 0., 0., 0., 1., 0., 0., 0.]], dtype=float32)"
            ]
          },
          "metadata": {},
          "execution_count": 80
        }
      ]
    },
    {
      "cell_type": "code",
      "source": [
        "#создаем нейронную сеть\n",
        "input_dim1 = X_train1.shape[1] \n",
        "hidden_dim1 = 128 \n",
        "output_dim1 = Y_train1.shape[1]\n",
        "\n",
        "model1 = Sequential() \n",
        "model1.add(Dense(hidden_dim1, input_dim=input_dim1, activation=\"relu\"))\n",
        "model1.add(Dense(output_dim1, activation=\"softmax\"))\n",
        "model1.compile(optimizer=optimizers.Adam(learning_rate=0.0015), loss='categorical_crossentropy', metrics=['accuracy'])\n",
        "history1 = model1.fit(X_train1, Y_train1, validation_split=0.2, epochs = 10, batch_size=64)"
      ],
      "metadata": {
        "colab": {
          "base_uri": "https://localhost:8080/"
        },
        "id": "Z_xQBQhzeo7z",
        "outputId": "269fef56-5c79-47d4-eafd-bb36346b20cf"
      },
      "execution_count": 81,
      "outputs": [
        {
          "output_type": "stream",
          "name": "stdout",
          "text": [
            "Epoch 1/10\n",
            "20/20 [==============================] - 1s 16ms/step - loss: 3.5717 - accuracy: 0.3423 - val_loss: 1.0009 - val_accuracy: 0.7157\n",
            "Epoch 2/10\n",
            "20/20 [==============================] - 0s 5ms/step - loss: 0.5422 - accuracy: 0.8288 - val_loss: 0.3634 - val_accuracy: 0.8889\n",
            "Epoch 3/10\n",
            "20/20 [==============================] - 0s 5ms/step - loss: 0.2779 - accuracy: 0.9189 - val_loss: 0.2660 - val_accuracy: 0.8987\n",
            "Epoch 4/10\n",
            "20/20 [==============================] - 0s 7ms/step - loss: 0.1961 - accuracy: 0.9451 - val_loss: 0.2099 - val_accuracy: 0.9314\n",
            "Epoch 5/10\n",
            "20/20 [==============================] - 0s 5ms/step - loss: 0.1511 - accuracy: 0.9615 - val_loss: 0.1789 - val_accuracy: 0.9542\n",
            "Epoch 6/10\n",
            "20/20 [==============================] - 0s 6ms/step - loss: 0.1331 - accuracy: 0.9640 - val_loss: 0.1705 - val_accuracy: 0.9412\n",
            "Epoch 7/10\n",
            "20/20 [==============================] - 0s 6ms/step - loss: 0.1029 - accuracy: 0.9754 - val_loss: 0.1372 - val_accuracy: 0.9641\n",
            "Epoch 8/10\n",
            "20/20 [==============================] - 0s 7ms/step - loss: 0.0879 - accuracy: 0.9779 - val_loss: 0.1317 - val_accuracy: 0.9673\n",
            "Epoch 9/10\n",
            "20/20 [==============================] - 0s 6ms/step - loss: 0.0642 - accuracy: 0.9885 - val_loss: 0.1134 - val_accuracy: 0.9739\n",
            "Epoch 10/10\n",
            "20/20 [==============================] - 0s 5ms/step - loss: 0.0604 - accuracy: 0.9869 - val_loss: 0.1124 - val_accuracy: 0.9673\n"
          ]
        }
      ]
    },
    {
      "cell_type": "code",
      "source": [
        "history_df1 = pd.DataFrame(history1.history) #создаем датафрейм и записываем туда метрики из истории\n",
        "history_df1[\"epoch\"] = history1.epoch #создаем столбец с номерами эпох обучения (начинаем с 0)\n",
        "history_df1 #выводим датафрейм"
      ],
      "metadata": {
        "colab": {
          "base_uri": "https://localhost:8080/",
          "height": 363
        },
        "id": "8kiJ5oGIeo-2",
        "outputId": "03a6aaca-0420-4000-96e0-b2656c13fd4b"
      },
      "execution_count": 82,
      "outputs": [
        {
          "output_type": "execute_result",
          "data": {
            "text/plain": [
              "       loss  accuracy  val_loss  val_accuracy  epoch\n",
              "0  3.571679  0.342342  1.000926      0.715686      0\n",
              "1  0.542150  0.828829  0.363428      0.888889      1\n",
              "2  0.277901  0.918919  0.265985      0.898693      2\n",
              "3  0.196084  0.945127  0.209940      0.931373      3\n",
              "4  0.151097  0.961507  0.178932      0.954248      4\n",
              "5  0.133137  0.963964  0.170513      0.941176      5\n",
              "6  0.102940  0.975430  0.137159      0.964052      6\n",
              "7  0.087944  0.977887  0.131746      0.967320      7\n",
              "8  0.064212  0.988534  0.113420      0.973856      8\n",
              "9  0.060351  0.986896  0.112366      0.967320      9"
            ],
            "text/html": [
              "\n",
              "  <div id=\"df-78f554d9-3341-4471-ae55-38f77ca828aa\">\n",
              "    <div class=\"colab-df-container\">\n",
              "      <div>\n",
              "<style scoped>\n",
              "    .dataframe tbody tr th:only-of-type {\n",
              "        vertical-align: middle;\n",
              "    }\n",
              "\n",
              "    .dataframe tbody tr th {\n",
              "        vertical-align: top;\n",
              "    }\n",
              "\n",
              "    .dataframe thead th {\n",
              "        text-align: right;\n",
              "    }\n",
              "</style>\n",
              "<table border=\"1\" class=\"dataframe\">\n",
              "  <thead>\n",
              "    <tr style=\"text-align: right;\">\n",
              "      <th></th>\n",
              "      <th>loss</th>\n",
              "      <th>accuracy</th>\n",
              "      <th>val_loss</th>\n",
              "      <th>val_accuracy</th>\n",
              "      <th>epoch</th>\n",
              "    </tr>\n",
              "  </thead>\n",
              "  <tbody>\n",
              "    <tr>\n",
              "      <th>0</th>\n",
              "      <td>3.571679</td>\n",
              "      <td>0.342342</td>\n",
              "      <td>1.000926</td>\n",
              "      <td>0.715686</td>\n",
              "      <td>0</td>\n",
              "    </tr>\n",
              "    <tr>\n",
              "      <th>1</th>\n",
              "      <td>0.542150</td>\n",
              "      <td>0.828829</td>\n",
              "      <td>0.363428</td>\n",
              "      <td>0.888889</td>\n",
              "      <td>1</td>\n",
              "    </tr>\n",
              "    <tr>\n",
              "      <th>2</th>\n",
              "      <td>0.277901</td>\n",
              "      <td>0.918919</td>\n",
              "      <td>0.265985</td>\n",
              "      <td>0.898693</td>\n",
              "      <td>2</td>\n",
              "    </tr>\n",
              "    <tr>\n",
              "      <th>3</th>\n",
              "      <td>0.196084</td>\n",
              "      <td>0.945127</td>\n",
              "      <td>0.209940</td>\n",
              "      <td>0.931373</td>\n",
              "      <td>3</td>\n",
              "    </tr>\n",
              "    <tr>\n",
              "      <th>4</th>\n",
              "      <td>0.151097</td>\n",
              "      <td>0.961507</td>\n",
              "      <td>0.178932</td>\n",
              "      <td>0.954248</td>\n",
              "      <td>4</td>\n",
              "    </tr>\n",
              "    <tr>\n",
              "      <th>5</th>\n",
              "      <td>0.133137</td>\n",
              "      <td>0.963964</td>\n",
              "      <td>0.170513</td>\n",
              "      <td>0.941176</td>\n",
              "      <td>5</td>\n",
              "    </tr>\n",
              "    <tr>\n",
              "      <th>6</th>\n",
              "      <td>0.102940</td>\n",
              "      <td>0.975430</td>\n",
              "      <td>0.137159</td>\n",
              "      <td>0.964052</td>\n",
              "      <td>6</td>\n",
              "    </tr>\n",
              "    <tr>\n",
              "      <th>7</th>\n",
              "      <td>0.087944</td>\n",
              "      <td>0.977887</td>\n",
              "      <td>0.131746</td>\n",
              "      <td>0.967320</td>\n",
              "      <td>7</td>\n",
              "    </tr>\n",
              "    <tr>\n",
              "      <th>8</th>\n",
              "      <td>0.064212</td>\n",
              "      <td>0.988534</td>\n",
              "      <td>0.113420</td>\n",
              "      <td>0.973856</td>\n",
              "      <td>8</td>\n",
              "    </tr>\n",
              "    <tr>\n",
              "      <th>9</th>\n",
              "      <td>0.060351</td>\n",
              "      <td>0.986896</td>\n",
              "      <td>0.112366</td>\n",
              "      <td>0.967320</td>\n",
              "      <td>9</td>\n",
              "    </tr>\n",
              "  </tbody>\n",
              "</table>\n",
              "</div>\n",
              "      <button class=\"colab-df-convert\" onclick=\"convertToInteractive('df-78f554d9-3341-4471-ae55-38f77ca828aa')\"\n",
              "              title=\"Convert this dataframe to an interactive table.\"\n",
              "              style=\"display:none;\">\n",
              "        \n",
              "  <svg xmlns=\"http://www.w3.org/2000/svg\" height=\"24px\"viewBox=\"0 0 24 24\"\n",
              "       width=\"24px\">\n",
              "    <path d=\"M0 0h24v24H0V0z\" fill=\"none\"/>\n",
              "    <path d=\"M18.56 5.44l.94 2.06.94-2.06 2.06-.94-2.06-.94-.94-2.06-.94 2.06-2.06.94zm-11 1L8.5 8.5l.94-2.06 2.06-.94-2.06-.94L8.5 2.5l-.94 2.06-2.06.94zm10 10l.94 2.06.94-2.06 2.06-.94-2.06-.94-.94-2.06-.94 2.06-2.06.94z\"/><path d=\"M17.41 7.96l-1.37-1.37c-.4-.4-.92-.59-1.43-.59-.52 0-1.04.2-1.43.59L10.3 9.45l-7.72 7.72c-.78.78-.78 2.05 0 2.83L4 21.41c.39.39.9.59 1.41.59.51 0 1.02-.2 1.41-.59l7.78-7.78 2.81-2.81c.8-.78.8-2.07 0-2.86zM5.41 20L4 18.59l7.72-7.72 1.47 1.35L5.41 20z\"/>\n",
              "  </svg>\n",
              "      </button>\n",
              "      \n",
              "  <style>\n",
              "    .colab-df-container {\n",
              "      display:flex;\n",
              "      flex-wrap:wrap;\n",
              "      gap: 12px;\n",
              "    }\n",
              "\n",
              "    .colab-df-convert {\n",
              "      background-color: #E8F0FE;\n",
              "      border: none;\n",
              "      border-radius: 50%;\n",
              "      cursor: pointer;\n",
              "      display: none;\n",
              "      fill: #1967D2;\n",
              "      height: 32px;\n",
              "      padding: 0 0 0 0;\n",
              "      width: 32px;\n",
              "    }\n",
              "\n",
              "    .colab-df-convert:hover {\n",
              "      background-color: #E2EBFA;\n",
              "      box-shadow: 0px 1px 2px rgba(60, 64, 67, 0.3), 0px 1px 3px 1px rgba(60, 64, 67, 0.15);\n",
              "      fill: #174EA6;\n",
              "    }\n",
              "\n",
              "    [theme=dark] .colab-df-convert {\n",
              "      background-color: #3B4455;\n",
              "      fill: #D2E3FC;\n",
              "    }\n",
              "\n",
              "    [theme=dark] .colab-df-convert:hover {\n",
              "      background-color: #434B5C;\n",
              "      box-shadow: 0px 1px 3px 1px rgba(0, 0, 0, 0.15);\n",
              "      filter: drop-shadow(0px 1px 2px rgba(0, 0, 0, 0.3));\n",
              "      fill: #FFFFFF;\n",
              "    }\n",
              "  </style>\n",
              "\n",
              "      <script>\n",
              "        const buttonEl =\n",
              "          document.querySelector('#df-78f554d9-3341-4471-ae55-38f77ca828aa button.colab-df-convert');\n",
              "        buttonEl.style.display =\n",
              "          google.colab.kernel.accessAllowed ? 'block' : 'none';\n",
              "\n",
              "        async function convertToInteractive(key) {\n",
              "          const element = document.querySelector('#df-78f554d9-3341-4471-ae55-38f77ca828aa');\n",
              "          const dataTable =\n",
              "            await google.colab.kernel.invokeFunction('convertToInteractive',\n",
              "                                                     [key], {});\n",
              "          if (!dataTable) return;\n",
              "\n",
              "          const docLinkHtml = 'Like what you see? Visit the ' +\n",
              "            '<a target=\"_blank\" href=https://colab.research.google.com/notebooks/data_table.ipynb>data table notebook</a>'\n",
              "            + ' to learn more about interactive tables.';\n",
              "          element.innerHTML = '';\n",
              "          dataTable['output_type'] = 'display_data';\n",
              "          await google.colab.output.renderOutput(dataTable, element);\n",
              "          const docLink = document.createElement('div');\n",
              "          docLink.innerHTML = docLinkHtml;\n",
              "          element.appendChild(docLink);\n",
              "        }\n",
              "      </script>\n",
              "    </div>\n",
              "  </div>\n",
              "  "
            ]
          },
          "metadata": {},
          "execution_count": 82
        }
      ]
    },
    {
      "cell_type": "code",
      "source": [
        "fig, (ax0, ax1) = plt.subplots(nrows=2, sharex=True, figsize=(12, 6)) #создаем фигуру и оси для отрисовки 2 графиков\n",
        "history_df1.plot(x=\"epoch\", y=[\"loss\", \"val_loss\"], ax=ax0, grid=True) #рисуем значения потерь для обучающих и валидационных данных\n",
        "history_df1.plot(x=\"epoch\", y=[\"accuracy\", \"val_accuracy\"], ax=ax1, grid=True)"
      ],
      "metadata": {
        "colab": {
          "base_uri": "https://localhost:8080/",
          "height": 405
        },
        "id": "3FvCUL0NepBU",
        "outputId": "8a2d9089-9a4b-461c-df67-660ce9ab596d"
      },
      "execution_count": 83,
      "outputs": [
        {
          "output_type": "execute_result",
          "data": {
            "text/plain": [
              "<matplotlib.axes._subplots.AxesSubplot at 0x7fbd4c6bbca0>"
            ]
          },
          "metadata": {},
          "execution_count": 83
        },
        {
          "output_type": "display_data",
          "data": {
            "text/plain": [
              "<Figure size 864x432 with 2 Axes>"
            ],
            "image/png": "[encoded data removed]"
          },
          "metadata": {
            "needs_background": "light"
          }
        }
      ]
    },
    {
      "cell_type": "code",
      "source": [
        "sample_index2 = 63 \n",
        "img = np.asarray(digits.data[sample_index2], dtype='float32') \n",
        "img = img.reshape(-1,64) \n",
        "print('Распределение вероятностей: ', model1.predict(img)) \n",
        "print('Это было изображение цифры: ', np.argmax(model1.predict(img)))"
      ],
      "metadata": {
        "colab": {
          "base_uri": "https://localhost:8080/"
        },
        "id": "fpP14BxSgMAz",
        "outputId": "02304e5c-fa6f-490d-d084-1c0be5ac2f80"
      },
      "execution_count": 84,
      "outputs": [
        {
          "output_type": "stream",
          "name": "stdout",
          "text": [
            "1/1 [==============================] - 0s 60ms/step\n",
            "Распределение вероятностей:  [[3.7508546e-08 6.4077103e-05 7.5813371e-04 9.9917310e-01 5.1371661e-08\n",
            "  2.4109227e-07 3.1764320e-11 9.1701327e-07 3.3191805e-06 6.8710499e-08]]\n",
            "1/1 [==============================] - 0s 25ms/step\n",
            "Это было изображение цифры:  3\n"
          ]
        }
      ]
    },
    {
      "cell_type": "code",
      "source": [
        "y_pred1 = np.argmax(model1.predict(X_test1), axis=1) \n",
        "print('*'*100,'Матрица ошибок', sep='\\n')\n",
        "print(confusion_matrix(y_test1,y_pred1)) \n",
        "print('*'*100,'Отчет о классификации', sep='\\n')\n",
        "print(classification_report(y_test1, y_pred1))"
      ],
      "metadata": {
        "colab": {
          "base_uri": "https://localhost:8080/"
        },
        "id": "xGeVNMVLgOMJ",
        "outputId": "02760766-f195-4a36-cf13-54ede8f1bb2e"
      },
      "execution_count": 85,
      "outputs": [
        {
          "output_type": "stream",
          "name": "stdout",
          "text": [
            "9/9 [==============================] - 0s 3ms/step\n",
            "****************************************************************************************************\n",
            "Матрица ошибок\n",
            "[[26  0  0  0  0  1  0  0  0  0]\n",
            " [ 0 29  0  0  0  0  0  0  0  0]\n",
            " [ 0  0 29  0  0  0  0  0  0  0]\n",
            " [ 0  0  0 17  0  0  0  0  0  0]\n",
            " [ 0  0  0  0 26  0  0  2  0  0]\n",
            " [ 0  1  0  0  0 29  0  0  0  1]\n",
            " [ 0  0  0  0  0  0 26  0  0  0]\n",
            " [ 0  0  0  0  0  0  0 24  0  0]\n",
            " [ 0  1  0  0  0  1  0  0 32  1]\n",
            " [ 0  0  0  0  0  0  0  0  0 24]]\n",
            "****************************************************************************************************\n",
            "Отчет о классификации\n",
            "              precision    recall  f1-score   support\n",
            "\n",
            "           0       1.00      0.96      0.98        27\n",
            "           1       0.94      1.00      0.97        29\n",
            "           2       1.00      1.00      1.00        29\n",
            "           3       1.00      1.00      1.00        17\n",
            "           4       1.00      0.93      0.96        28\n",
            "           5       0.94      0.94      0.94        31\n",
            "           6       1.00      1.00      1.00        26\n",
            "           7       0.92      1.00      0.96        24\n",
            "           8       1.00      0.91      0.96        35\n",
            "           9       0.92      1.00      0.96        24\n",
            "\n",
            "    accuracy                           0.97       270\n",
            "   macro avg       0.97      0.97      0.97       270\n",
            "weighted avg       0.97      0.97      0.97       270\n",
            "\n"
          ]
        }
      ]
    }
  ]
}