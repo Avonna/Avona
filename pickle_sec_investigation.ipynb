{
  "cells": [
    {
      "cell_type": "markdown",
      "metadata": {
        "id": "view-in-github",
        "colab_type": "text"
      },
      "source": [
        "<a href=\"https://colab.research.google.com/github/Avonna/Avona/blob/main/pickle_sec_investigation.ipynb\" target=\"_parent\"><img src=\"https://colab.research.google.com/assets/colab-badge.svg\" alt=\"Open In Colab\"/></a>"
      ]
    },
    {
      "cell_type": "markdown",
      "id": "a67c60a1",
      "metadata": {
        "id": "a67c60a1"
      },
      "source": [
        "##  DataScience и безопасность: пакет pickle"
      ]
    },
    {
      "cell_type": "markdown",
      "id": "69850e89",
      "metadata": {
        "id": "69850e89"
      },
      "source": [
        "### Дисклеймер\n",
        "\n",
        "---\n",
        "Материал предоставлен для ознакомления, анализа и обсуждения исключительно \n",
        "в образовательных целях. Автор не несет отвественности за использование представленного \n",
        "материала в незаконных целях третьими лицами и не подлежит судебному преследованию за его использование.\n",
        "Кроме того, автор не несет ответственности за вред, возникший в результате использования \n",
        "материала. \n",
        "\n",
        "Код в материале предоставляется \"as is\", автор оставляет за собой право изменять его на\n",
        "свое усмотрение и изменять условия его распространения.\n",
        "\n",
        "---\n",
        "\n",
        "Вобщем, все персонажи вымышлены, любое совпадение является иллюзией, игрой воображения, просто совпадением и не более того :)"
      ]
    },
    {
      "cell_type": "markdown",
      "id": "d7c8fb85",
      "metadata": {
        "id": "d7c8fb85"
      },
      "source": [
        "### Введение"
      ]
    },
    {
      "cell_type": "markdown",
      "id": "2acfcdb9",
      "metadata": {
        "id": "2acfcdb9"
      },
      "source": [
        "В ML достаточно часто практикуют подход сохранения и загрузки предобученных моделей \n",
        "и прочих объектов на файловую систему с помощью пакета pickle. В целом подход оправдывает \n",
        "себя, когда в условиях ограниченных вычислительных ресурсов и/или длительного времени \n",
        "обработки данных и обучения разумно фиксировать шаги процесса обучения. Даже серьезные проекты, \n",
        "например StyleGAN2, на борту несут функционал для работы с предобученными моделями с помощью пакета \n",
        "pickle (https://github.com/NVlabs/stylegan2/blob/master/pretrained_networks.py)\n",
        "\n",
        "Тем неменее у пакета pickle есть особенность, которой не уделяют должного внимания, а именнно: \n",
        "* опасность десериализации объектов из файлов через класс Unpickler и его производные, например через методы pickle.load() или pickle.loads().\n",
        "\n",
        "Сегодня мы поговорим о том, насколько опасен всем привычный пакет pickle и как себя\n",
        "обезопасить."
      ]
    },
    {
      "cell_type": "markdown",
      "id": "999c99aa",
      "metadata": {
        "id": "999c99aa"
      },
      "source": [
        "**Мем в тему:**\n",
        "\n",
        "\\- Джон, у нас дыра в безопасности!\n",
        "\n",
        "\\- Слава богу, что у нас хоть что-то в безопасности!"
      ]
    },
    {
      "cell_type": "markdown",
      "id": "5e7adb9c",
      "metadata": {
        "id": "5e7adb9c"
      },
      "source": [
        "### \"Я есть pickle\""
      ]
    },
    {
      "cell_type": "markdown",
      "id": "a5ae571c",
      "metadata": {
        "id": "a5ae571c"
      },
      "source": [
        "Начнем с того, что проведем небольшой ликбез по пакету pickle, что он из себя представляет \n",
        "и как его \"готовят и едят\". \n",
        "\n",
        "Допустим, вы долго трудитесь над некоторым проектом, например учите модельку, и у вас \n",
        "есть множество  шагов, которые вы не хотели бы повторять заново  в случае, если что-то \n",
        "пойдет не так. Или просто хотите зафиксировать некоторый результат, чтобы поделиться им с \n",
        "сообществом. Что делать? \n",
        "\n",
        "Правильно! Нужно сохранить это состояние на носителе в виде файла. А затем, в случае \n",
        "необходимости, это состояние загрузить из файла. Представим, что у нас есть \n",
        "некоторый python объект класса MyCalss и мы не хотим его \"потерять\":"
      ]
    },
    {
      "cell_type": "code",
      "execution_count": null,
      "id": "77b00b3e",
      "metadata": {
        "id": "77b00b3e"
      },
      "outputs": [],
      "source": [
        "class MyClass:\n",
        "    def __init__(self, *, name, number):\n",
        "        self.name = name\n",
        "        self.number = number\n",
        "        \n",
        "    def make_ops(self):\n",
        "        print('make_ops() called')\n",
        "        \n",
        "    def __str__(self):\n",
        "        return f'name: \"{self.name}\", number: {self.number}'\n",
        "        \n",
        "myobject = MyClass(name='I`m very important object! So don`t forget me!', \n",
        "                   number=1234567)"
      ]
    },
    {
      "cell_type": "markdown",
      "id": "a1e767e5",
      "metadata": {
        "id": "a1e767e5"
      },
      "source": [
        "\"Традиционный\" опыт предшественников (а в моем случае - начинающих сайентологов) подсказывает, \n",
        "что нам следует импортировать **pickle** и вызвать метод **dump**, передав в него наш объект \n",
        "и дескриптор потока ввода-вывода, в который объект будет \"записан\"."
      ]
    },
    {
      "cell_type": "code",
      "execution_count": null,
      "id": "e4918794",
      "metadata": {
        "id": "e4918794"
      },
      "outputs": [],
      "source": [
        "import pickle\n",
        "\n",
        "with open('myobject.pkl', 'wb') as fd:\n",
        "    pickle.dump(myobject, fd, 0)"
      ]
    },
    {
      "cell_type": "markdown",
      "id": "2ac7de10",
      "metadata": {
        "id": "2ac7de10"
      },
      "source": [
        "Отлично, наш объект теперь в файле _myobject.pkl_. Мы легко можем его восстановить с помощью метода **pickle.load**:"
      ]
    },
    {
      "cell_type": "code",
      "execution_count": null,
      "id": "4a9ce5c2",
      "metadata": {
        "scrolled": true,
        "colab": {
          "base_uri": "https://localhost:8080/"
        },
        "id": "4a9ce5c2",
        "outputId": "37672907-fc12-420c-d155-57e02a92e956"
      },
      "outputs": [
        {
          "output_type": "stream",
          "name": "stdout",
          "text": [
            "Object type stored within the myobject.pkl: \n",
            "\t<class '__main__.MyClass'>\n",
            "myobject.name: \n",
            "\tI`m very important object! So don`t forget me!\n",
            "myobject.number: \n",
            "\t1234567\n",
            "make_ops() called\n"
          ]
        }
      ],
      "source": [
        "myobject = None\n",
        "\n",
        "with open('myobject.pkl', 'rb') as fd:\n",
        "    myobject = pickle.load(fd)\n",
        "\n",
        "print(f'Object type stored within the myobject.pkl: \\n\\t{type(myobject)}')\n",
        "print(f'myobject.name: \\n\\t{myobject.name}')\n",
        "print(f'myobject.number: \\n\\t{myobject.number}')\n",
        "myobject.make_ops()"
      ]
    },
    {
      "cell_type": "markdown",
      "id": "d3142ffc",
      "metadata": {
        "id": "d3142ffc"
      },
      "source": [
        "Как видим информация о типе объекта (классе), переменных и их значениях не утеряна \n",
        "после восстановления объекта из файла, что очень здорово! Мы можем возобновить работу \n",
        "с объектом в любом месте нашего проекта!"
      ]
    },
    {
      "cell_type": "markdown",
      "id": "bd7cefa7",
      "metadata": {
        "id": "bd7cefa7"
      },
      "source": [
        "Давайте посмотрим, что внутри нашего файла. Как выглядит упакованный объект? "
      ]
    },
    {
      "cell_type": "code",
      "execution_count": null,
      "id": "fbf7f644",
      "metadata": {
        "colab": {
          "base_uri": "https://localhost:8080/"
        },
        "id": "fbf7f644",
        "outputId": "675b492c-362c-4bd2-9329-0d80fd7a5693"
      },
      "outputs": [
        {
          "output_type": "stream",
          "name": "stdout",
          "text": [
            "b'ccopy_reg\\n_reconstructor\\np0\\n(c__main__\\nMyClass\\np1\\nc__builtin__\\nobject\\np2\\nNtp3\\nRp4\\n(dp5\\nVname\\np6\\nVI`m very important object! So don`t forget me!\\np7\\nsVnumber\\np8\\nI1234567\\nsb.'\n"
          ]
        }
      ],
      "source": [
        "with open('myobject.pkl','rb') as fd:\n",
        "    serialized_data = fd.read()\n",
        "    print(serialized_data)"
      ]
    },
    {
      "cell_type": "markdown",
      "id": "03414abf",
      "metadata": {
        "id": "03414abf"
      },
      "source": [
        "Какая-то абракадабра. \n",
        "\n",
        "Можем взглянуть под другим углом и получить более осмысленную картину, \n",
        "для чего будем использовать пакет _pickletools_:"
      ]
    },
    {
      "cell_type": "code",
      "execution_count": null,
      "id": "2c0eedd9",
      "metadata": {
        "scrolled": false,
        "colab": {
          "base_uri": "https://localhost:8080/"
        },
        "id": "2c0eedd9",
        "outputId": "5fe6c0eb-c284-4c01-ba29-981f657c745c"
      },
      "outputs": [
        {
          "output_type": "stream",
          "name": "stdout",
          "text": [
            "    0: c    GLOBAL     'copy_reg _reconstructor'\n",
            "   25: p    PUT        0\n",
            "   28: (    MARK\n",
            "   29: c        GLOBAL     '__main__ MyClass'\n",
            "   47: p        PUT        1\n",
            "   50: c        GLOBAL     '__builtin__ object'\n",
            "   70: p        PUT        2\n",
            "   73: N        NONE\n",
            "   74: t        TUPLE      (MARK at 28)\n",
            "   75: p    PUT        3\n",
            "   78: R    REDUCE\n",
            "   79: p    PUT        4\n",
            "   82: (    MARK\n",
            "   83: d        DICT       (MARK at 82)\n",
            "   84: p    PUT        5\n",
            "   87: V    UNICODE    'name'\n",
            "   93: p    PUT        6\n",
            "   96: V    UNICODE    'I`m very important object! So don`t forget me!'\n",
            "  144: p    PUT        7\n",
            "  147: s    SETITEM\n",
            "  148: V    UNICODE    'number'\n",
            "  156: p    PUT        8\n",
            "  159: I    INT        1234567\n",
            "  168: s    SETITEM\n",
            "  169: b    BUILD\n",
            "  170: .    STOP\n",
            "highest protocol among opcodes = 0\n",
            "None\n"
          ]
        }
      ],
      "source": [
        "import pickletools as pt\n",
        "\n",
        "with open('myobject.pkl','rb') as fd:\n",
        "    serialized_data = fd.read()\n",
        "    print( pt.dis(serialized_data) )"
      ]
    },
    {
      "cell_type": "markdown",
      "id": "102f31df",
      "metadata": {
        "id": "102f31df"
      },
      "source": [
        "Файл _myobject.pkl_ менее информативен, поскольку протоколы сериализации/десериализации \n",
        "не в последнюю очередь призваны для минимизации занимаего дискового пространства при работе с объектом \n",
        "на файловой системе и сохранения топологии объекта. В файле есть структура, и из листинга мы \n",
        "можем её наблюдать. Файл состоит из записей, каждую из которых предваряет токен и значение, каждому \n",
        "токену соотвествует его символьное придставление, которое лежит в файле. Например, на позиции 25 \n",
        "начинается запись с токеном PUT, которому соотвествует символ _p_ в файле. Само значение может \n",
        "быть простым или составным (то есть контейнером типа MARK). Стоит отметить, что прежде \n",
        "всего в файле сохранены такие параметры как:\n",
        "\n",
        "* пространство \\_\\_main\\_\\_ в котором определен атрибут (тип сериализованного инстанса)\n",
        "* имя атрибута (типа _MyClass_ )\n",
        "* члены-переменные ( _name_ и _number_ ) с их значениями\n",
        "\n",
        "При этом в файле нет информации о членах-методах класса, конструкторе и прочих вещах, \n",
        "не говоря об их реализации. Стоит отметить, что при десериализации нашего инстанса из файла\n",
        "класс, указанный в файле, должен быть объявлен в модуле, иначе в процессе работы load/loads\n",
        "будет выброшено исключение типа \n",
        "\n",
        "_AttributeError: Can't get attribute 'MyClass' on <module '__main__'>_"
      ]
    },
    {
      "cell_type": "markdown",
      "id": "f114c992",
      "metadata": {
        "id": "f114c992"
      },
      "source": [
        "Что же происходит в недрах пакета pickle? Согласно документации пакет pickle реализует \n",
        "несколько версий протоколов сериализации python объектов в двоичный поток (в файл) и их \n",
        "десериализации из \"сырых\" данных. Если вы знакомы с технологиями COM, RPC, Java Searializable, \n",
        "то здесь очень четкая аналогия: \"упаковка\" (сериализация) объекта в двоичный формат и \n",
        "распаковка (десериализация). В контексте пакета pickle терминология следущая: \n",
        "* \"pickling\" - это сериализация, упаковка, маршалинг, безопасный хомячок.\n",
        "* \"unpickling\" - это десериализация, распаковка, котик, который может сделать \"кусь\"\n",
        "\n",
        "\n",
        "В недрах pickle за сериализацию объекта отвечает класс Pickler, за десериализацию - Unpickler.\n",
        "\n",
        "\n",
        "Что может быть сериализовано? Ответ нам дает документация:\n",
        "* None, True, and False;\n",
        "* integers, floating-point numbers, complex numbers;\n",
        "* strings, bytes, bytearrays;\n",
        "* tuples, lists, sets, and dictionaries containing only picklable objects;\n",
        "* functions (built-in and user-defined) accessible from the top level of a module (using def, not lambda);\n",
        "* classes accessible from the top level of a module;\n",
        "* instances of such classes whose the result of calling __getstate__() is picklable (see section Pickling Class Instances for details).\n",
        "\n",
        "Странно, что здесь заявлена возможность сериализации функций. Ведь в примерах \n",
        "выше мы видели, что тело функций не сериализуется, только имя функции, объявленное\n",
        "в глобальном пространстве. Возможно, у автора кривые руки и вы поправите его по этому \n",
        "выводу.\n",
        "\n",
        "Кроме того, разработчики с заботой предупреждают нас, что пакет pickle явлется небезопасным (https://docs.python.org/3/library/pickle.html):\n",
        "\n",
        "---\n",
        "\n",
        "**[Warning The pickle module is not secure. Only unpickle data you trust.\n",
        "It is possible to construct malicious pickle data which will execute arbitrary code during unpickling. Never unpickle data that could have come from an untrusted source, or that could have been tampered with.\n",
        "Consider signing data with hmac if you need to ensure that it has not been tampered with.\n",
        "Safer serialization formats such as json may be more appropriate if you are processing untrusted data. See Comparison with json.]**\n",
        "\n",
        "---\n"
      ]
    },
    {
      "cell_type": "markdown",
      "id": "aed57db8",
      "metadata": {
        "id": "aed57db8"
      },
      "source": [
        "### Что не так с Unpickler?"
      ]
    },
    {
      "cell_type": "markdown",
      "id": "092e3e8b",
      "metadata": {
        "id": "092e3e8b"
      },
      "source": [
        "Вспомните пример выше, когда мы с помощью pickletools вывели в осмысленном виде содержимое \n",
        "нашего файла, содержащего сериализованный инстанс. Он нам демонстрирует записи с токеном GLOBAL. \n",
        "Взгялните еще раз на этот пример, записи с токенами GLOBAL на позициях 0, 29 и 50.\n",
        "В файле целых 3 записи: \n",
        "* 1-я определяет, что к инстансу нужно применить метод \\_reconstructor из пространства copy_reg\n",
        "* 2-я определяет, что инстанс имеет тип \"класс MyClass\", который должен быть объявлен в пространстве (модуле) \\_\\_main\\_\\_; \n",
        "* 3-я определяет, что инстанс - это объект(?), который нужно создать методом _object()_ из пространства (модуля) \\_\\_builtin\\_\\_. \n",
        "\n",
        "А что же за пространства copy_reg и \\_\\_builtin\\_\\_? Вспоминаем азы python-а, в частности \n",
        "обратимся к разделу документации https://docs.python.org/3/library/builtins.html. В нем нам рассказывают\n",
        "о встроенных объектах языка: функциях и константах. То есть слово \\_\\_builtin\\_\\_ из файла соотвествует \n",
        "модулю builtins, а слово object из файла соотвествует встроенной функции object() в модуле builtins. \n",
        "В примере выше модули copy_reg и \\_\\_builtin\\_\\_ соотвествуют версии Python2.x, что вобщем-то \n",
        "не удивительно: пакет pickle придумали на заре становления языка, поэтому это - \"эхо далекой войны\", \n",
        "так сказать. И сделано в угоду совместимости файлов, созданных в версиях Python2.x, на более свежих версиях интерпретатора. Почему же это работает на версиях Python3.x? Магия кроется в файле _compat_pickle.py, который содержит маппинг старых имен модулей и функций (типа xrange -> range) из Python2.x в новые для Python3.x:"
      ]
    },
    {
      "cell_type": "markdown",
      "source": [
        "\n",
        "\n",
        "```\n",
        "# This module is used to map the old Python 2 names to the new names used in\n",
        "# Python 3 for the pickle module.  This needed to make pickle streams\n",
        "# generated with Python 2 loadable by Python 3.\n",
        "\n",
        "# This is a copy of lib2to3.fixes.fix_imports.MAPPING.  We cannot import\n",
        "# lib2to3 and use the mapping defined there, because lib2to3 uses pickle.\n",
        "# Thus, this could cause the module to be imported recursively.\n",
        "IMPORT_MAPPING = {\n",
        "    '__builtin__' : 'builtins',\n",
        "    'copy_reg': 'copyreg',\n",
        "    'Queue': 'queue',\n",
        "    'SocketServer': 'socketserver',\n",
        "    'ConfigParser': 'configparser',\n",
        "    'repr': 'reprlib',\n",
        "    ...\n",
        "```\n",
        "\n"
      ],
      "metadata": {
        "id": "jzt8-m3b5ZTB"
      },
      "id": "jzt8-m3b5ZTB"
    },
    {
      "cell_type": "markdown",
      "id": "8a747a46",
      "metadata": {
        "id": "8a747a46"
      },
      "source": [
        "**Хм, вроде ничего страшного на первый взгляд.**\n",
        "\n",
        "Но в модуле _builtins_ наряду с функцией _object()_ присутствует ряд других функций, \n",
        "куда менее безобидных. Например, _eval()_, _compile()_ или _exec()_. \n",
        "\n",
        "Ниже пример для затравки (спасибо разработчикам за любезно предоставленый код), который \n",
        "десериализует инстанс, в котором применяется встроенная в язык функция eval(), и в целом \n",
        "демонстрирует неожиданный (для тех, кто не читает man-ы !) эффект процесса десериализации. \n",
        "В примере выполняется тело _'print(1 + 2)'_ с помощью функции eval():"
      ]
    },
    {
      "cell_type": "code",
      "execution_count": null,
      "id": "68805cfd",
      "metadata": {
        "scrolled": true,
        "colab": {
          "base_uri": "https://localhost:8080/"
        },
        "id": "68805cfd",
        "outputId": "5d5a3ed4-5377-4cbd-afb2-891bdd9939a7"
      },
      "outputs": [
        {
          "output_type": "stream",
          "name": "stdout",
          "text": [
            "3\n"
          ]
        }
      ],
      "source": [
        "pickle.loads((b\"c__builtin__\\neval\\n(S'print(1 + 2)'\\ntR.\"))"
      ]
    },
    {
      "cell_type": "markdown",
      "id": "96ed5f7a",
      "metadata": {
        "id": "96ed5f7a"
      },
      "source": [
        "Да, именно об этом эффекте нас предупреждают разработчики в своей документации. Палец вверх если не знали или пропустили мимо ушей при освоении документации!\n",
        "\n",
        "В примере выше использован метод _loads_. Он отличается от _load_ тем, что на вход принимает _bytes-like_ объект в место потока ввода-вывода. Концептульно разницы никакой: load и loads являются обертками на классом _Unpickler_.\n",
        "\n",
        "Как вы могли заметить, метод load успешно \"распаковал\" наш инстанс (точнее, разобрал двойчные данные согласно протокола): никаких ошибок в процессе десериализации не возникло. Также он \"вывел в консоль\" чиселку, являющуюся суммой 1 и 2. Необычно, но пока ничего серьезного, не так ли?"
      ]
    },
    {
      "cell_type": "markdown",
      "id": "ebd28edf",
      "metadata": {
        "id": "ebd28edf"
      },
      "source": [
        "**Уже не так безобидно!**"
      ]
    },
    {
      "cell_type": "markdown",
      "id": "de20f6ac",
      "metadata": {
        "id": "de20f6ac"
      },
      "source": [
        "А что еще такого можно придумать? Как мы увидели выше, запись GLOBAL имеет спецификацию:\n",
        "GLOBAL MODULE_NAME ATTRIBUTE_NAME. Сделаем предположение о том, что мы можем указать произвольный модуль,\n",
        "например _os_ и дернуть из него метод или свойство, например _os.name_:"
      ]
    },
    {
      "cell_type": "code",
      "execution_count": null,
      "id": "5829cc29",
      "metadata": {
        "colab": {
          "base_uri": "https://localhost:8080/",
          "height": 35
        },
        "id": "5829cc29",
        "outputId": "fba76a46-1564-4f97-fc2f-8aa595fdbcf5"
      },
      "outputs": [
        {
          "output_type": "execute_result",
          "data": {
            "text/plain": [
              "'posix'"
            ],
            "application/vnd.google.colaboratory.intrinsic+json": {
              "type": "string"
            }
          },
          "metadata": {},
          "execution_count": 7
        }
      ],
      "source": [
        "pickle.loads(b\"cos\\nname\\n.\") # не ставим ';'"
      ]
    },
    {
      "cell_type": "markdown",
      "id": "dcaa3efd",
      "metadata": {
        "id": "dcaa3efd"
      },
      "source": [
        "Ух!! Работает! Повышаем ставки: посмотрим имя текущего системного пользователя, используя пакет os. Будем дергать метод os.system(), который позволяет выполнять системные команды и запускать произвольные программы:"
      ]
    },
    {
      "cell_type": "code",
      "execution_count": null,
      "id": "6fb5677f",
      "metadata": {
        "scrolled": false,
        "colab": {
          "base_uri": "https://localhost:8080/"
        },
        "id": "6fb5677f",
        "outputId": "c012726f-6653-47ec-fff9-9f771add4b76"
      },
      "outputs": [
        {
          "output_type": "stream",
          "name": "stdout",
          "text": [
            "whoami status code: 0\n",
            "current user: root\n",
            "\n"
          ]
        }
      ],
      "source": [
        "# pickle.loads(b\"cos\\nsystem\\n(S'id -un > usr.txt'\\ntR.\") # for Mac OS\n",
        "status = pickle.loads(b\"cos\\nsystem\\n(S'whoami > whoami_result.txt'\\ntR.\")\n",
        "print(f'whoami status code: {status}')\n",
        "with open('whoami_result.txt', 'rb') as fd:\n",
        "  print(f'current user: {fd.read().decode()}')"
      ]
    },
    {
      "cell_type": "markdown",
      "id": "fcdc0769",
      "metadata": {
        "id": "fcdc0769"
      },
      "source": [
        "**Хм, такого поведения вы точно не ожидали и не желали для себя!**"
      ]
    },
    {
      "cell_type": "markdown",
      "id": "80956a7e",
      "metadata": {
        "id": "80956a7e"
      },
      "source": [
        "Давайте попробуем что-нибудь по-интересней, например посмотреть наш текущий каталог с помощью команды pwd (согласен, пример притянут за уши, но нам важен смысл, а не обертка):"
      ]
    },
    {
      "cell_type": "code",
      "execution_count": null,
      "id": "c9375168",
      "metadata": {
        "scrolled": true,
        "colab": {
          "base_uri": "https://localhost:8080/"
        },
        "id": "c9375168",
        "outputId": "590c17fd-75e5-4e06-c75c-fc35bbd7a806"
      },
      "outputs": [
        {
          "output_type": "stream",
          "name": "stdout",
          "text": [
            "pwd status code: 0\n",
            "current directory: /content\n",
            "\n"
          ]
        }
      ],
      "source": [
        "status = pickle.loads(\n",
        "    b\"cos\\nsystem\\n(S'pwd > pwd_status.txt'\\ntR.\"\n",
        "    );\n",
        "print(f'pwd status code: {status}')\n",
        "with open('pwd_status.txt', 'rb') as fd:\n",
        "  print(f'current directory: {fd.read().decode()}')"
      ]
    },
    {
      "cell_type": "markdown",
      "id": "e2b661b7",
      "metadata": {
        "id": "e2b661b7"
      },
      "source": [
        "Как видим, в процедуре unpickling спрятано гораздо больше, чем кажется. Безобидная \n",
        "на первый взгляд зверушка может стать монстром и доставить немало хлопот. \n",
        "\n",
        "**Простыми\n",
        "словами:** через десериализацию с помощью пакета pickle из коробки вы подвергаете себя\n",
        "риску."
      ]
    },
    {
      "cell_type": "markdown",
      "id": "cc6435f9",
      "metadata": {
        "id": "cc6435f9"
      },
      "source": [
        "### Игра в иммитацию"
      ]
    },
    {
      "cell_type": "markdown",
      "id": "685ad8b3",
      "metadata": {
        "id": "685ad8b3"
      },
      "source": [
        "Давайте смоделируем ситуацию, когда вы получили из какого-либо источника сериализованный \n",
        "объект. Например, клонировали с помощью git файлы предобученных моделей (как в примере выше \n",
        "с github/NVlabs компания NVidia любезно разместила файлы предобученных моделей на своих серверах, \n",
        "а в git залила кодовую базу). Для примера, пусть это будет файл _pretrained_model_0.pkl_. Вы обычно \n",
        "не задумываетесь о его безопасности (надеюсь, что после прочтения этой публикации вы будете думать\n",
        "по-другому) и рассматриваете его как просто файл с данными, в котором \"лежит\" модель. Мы смоделируем злоумышленника, который создал такой файл модели и предоставил его вам. В файл он поместил что-то вредоносное: в нашем примере выполнение команды ls -l > ls_status.txt и вывод результата в \"консоль\":"
      ]
    },
    {
      "cell_type": "code",
      "execution_count": null,
      "id": "bd442730",
      "metadata": {
        "id": "bd442730"
      },
      "outputs": [],
      "source": [
        "script = b'import os; os.system(\"ls -l > ls_status.txt\");\\r' + \\\n",
        "         b'with open(\"ls_status.txt\", \"rb\") as fd: print(fd.read().decode())'\n",
        "with open('pretrained_model_0.pkl', 'wb') as fd:\n",
        "    fd.write(b\"cbuiltins\\nexec\\n(S'\" + script + b\"'\\ntR.\")"
      ]
    },
    {
      "cell_type": "markdown",
      "id": "c1b5a0d0",
      "metadata": {
        "id": "c1b5a0d0"
      },
      "source": [
        "И так, вы уверены в безопасности кода в вашем проекте (ведь он написан и выверен вами!), и вы пытаетесь загрузить любезно предоставленную кем-то модель из файла _pretrained_model_0.pkl_ с помощью _pickle.load()_. Давайте попробуем это сделать:"
      ]
    },
    {
      "cell_type": "code",
      "execution_count": null,
      "id": "a76ffa90",
      "metadata": {
        "scrolled": true,
        "colab": {
          "base_uri": "https://localhost:8080/"
        },
        "id": "a76ffa90",
        "outputId": "df3eed3f-518d-42d6-8d89-478972e05a07"
      },
      "outputs": [
        {
          "output_type": "stream",
          "name": "stdout",
          "text": [
            "total 28\n",
            "-rw-r--r-- 1 root root    0 Dec 18 16:01 ls_status.txt\n",
            "-rw-r--r-- 1 root root  171 Dec 18 15:43 myobject.pkl\n",
            "-rw-r--r-- 1 root root    9 Dec 18 15:50 ping_status.txt\n",
            "-rw-r--r-- 1 root root  135 Dec 18 16:01 pretrained_model_0.pkl\n",
            "-rw-r--r-- 1 root root    9 Dec 18 15:53 pwd_status.txt\n",
            "drwxr-xr-x 1 root root 4096 Dec 16 00:01 sample_data\n",
            "-rw-r--r-- 1 root root    5 Dec 18 15:48 usr.txt\n",
            "-rw-r--r-- 1 root root    5 Dec 18 15:53 whoami_result.txt\n",
            "\n"
          ]
        }
      ],
      "source": [
        "model = None\n",
        "with open('pretrained_model_0.pkl', 'rb') as fd:\n",
        "    model = pickle.load(fd)  \n",
        "# you code here"
      ]
    },
    {
      "cell_type": "markdown",
      "id": "8e6776b0",
      "metadata": {
        "id": "8e6776b0"
      },
      "source": [
        "В обычном сценарии вы получили бы объект модели в переменной _model_. \n",
        "\n",
        "Но, кто-то выбрал вас, и в худшем варианте, вы стали полноценным участником ботнета или очередной жертвой ransomware, что демонстрирует нам вывод команды ls -l. Ведь вместо безобидного вызова ls -l ваш \"доброжелатель\"\n",
        "может поместить что-то менее безобидное. Дальше можете фантазировать на предмет кибершпионажа в \n",
        "области высоких технологий и научно-технического прогресса."
      ]
    },
    {
      "cell_type": "markdown",
      "id": "e5c1a574",
      "metadata": {
        "id": "e5c1a574"
      },
      "source": [
        "### План 'B': бежим по кругу и кричим А-А-А?"
      ]
    },
    {
      "cell_type": "markdown",
      "id": "f4984e87",
      "metadata": {
        "id": "f4984e87"
      },
      "source": [
        "К счастью разработчики pickle все же подумали о нас и предоставили нам возможность контролировать \n",
        "процессы сериализации и десериализации, что требует определенных усилий от нас как\n",
        "пользователей пакета pickle. В контексте повествования мы не будем рассматривать кастомизацию процесса \n",
        "сериализации (pickling), поскольку для нас это процесс угрозы не представляет.\n",
        "\n",
        "Что же касается процесса десериализации, то крайне рекомендуется создать свою обертку над классом\n",
        "Unpickler и определить метод find_class. Суть метода find_class() - фильтровать пакеты и имена, \n",
        "заявленныe в токенах GLOBAL, на основе белых списков и выбрасывать исключения в случае, если\n",
        "обнаружены неразрешенные пакет и/или аттрибут из пакета (свойство или функция).\n",
        "\n",
        "Ниже представлен скелет, который можно использовать и дополнять под свои нуджы для безопасной десериализации объектов с помощью пакета pickle. Класс частично обеспечивает поддержку  пакетов из Python 2.x при работе в Python 3.x."
      ]
    },
    {
      "cell_type": "code",
      "execution_count": null,
      "id": "ed15e643",
      "metadata": {
        "scrolled": true,
        "id": "ed15e643"
      },
      "outputs": [],
      "source": [
        "import builtins\n",
        "import io\n",
        "import os.path\n",
        "import importlib\n",
        "import pickle\n",
        "compat_pickle = importlib.import_module('_compat_pickle')\n",
        "\n",
        "\n",
        "class SafeUnpickler(pickle.Unpickler):\n",
        "    \n",
        "    def __init__(self, file, *, fix_imports=True, encoding='ASCII', \n",
        "                 errors='strict', buffers=None, safe_modules=None, \n",
        "                 safe_names=None):\n",
        "        \n",
        "        super().__init__(file, fix_imports=fix_imports, encoding=encoding, errors=errors)\n",
        "        \n",
        "        # create dict of safe modules with their members using Python 2.x names\n",
        "        self.safe_modules = {\n",
        "            '__builtin__': [\n",
        "                'xrange','complex','set','frozenset','slice','list', 'tuple', 'object'\n",
        "            ],\n",
        "            'copy_reg': [\n",
        "                '_reconstructor',\n",
        "            ],\n",
        "        }\n",
        "        \n",
        "        # Convert Python2.x to Python3.x names\n",
        "        modules = set(self.safe_modules.keys())\n",
        "        \n",
        "        for module in modules:\n",
        "            if module in compat_pickle.IMPORT_MAPPING.keys():\n",
        "                if not compat_pickle.IMPORT_MAPPING[module] in self.safe_modules:\n",
        "                    self.safe_modules[ compat_pickle.IMPORT_MAPPING[module] ] = []\n",
        "                    \n",
        "                for name in self.safe_modules[module]:\n",
        "                    t = (module, name, ) \n",
        "                    if t in compat_pickle.NAME_MAPPING.keys():\n",
        "                        self.safe_modules[ compat_pickle.IMPORT_MAPPING[module] ].append(\n",
        "                            compat_pickle.NAME_MAPPING[t][1]\n",
        "                        )\n",
        "                    else:\n",
        "                        self.safe_modules[ compat_pickle.IMPORT_MAPPING[module] ].append(name)\n",
        "        \n",
        "        # Add additional modules and members like __main__ and etc\n",
        "        #self.safe_modules[__name__] = list(__import__(__name__).__dict__.keys())\n",
        "        #if isinstance(safe_names, list):\n",
        "        #    for name in safe_names:\n",
        "        #        self.safe_modules[__name__].append(name)\n",
        "        \n",
        "        if isinstance(safe_modules, dict):\n",
        "            for module in safe_modules:\n",
        "                if not module in self.safe_modules:\n",
        "                    self.safe_modules[module] = safe_modules[module].copy()\n",
        "\n",
        "                    \n",
        "    def find_class(self, module, name):\n",
        "        if module in self.safe_modules and name in self.safe_modules[module]:\n",
        "            if module in compat_pickle.IMPORT_MAPPING.keys():\n",
        "                names = self.safe_modules[compat_pickle.IMPORT_MAPPING[module]]\n",
        "                if name in names:\n",
        "                    return getattr(__import__(compat_pickle.IMPORT_MAPPING[module]), name)\n",
        "            \n",
        "            elif module == __name__:\n",
        "                return getattr(__import__(__name__), name)\n",
        "            \n",
        "            else:\n",
        "                names = self.safe_modules[module]\n",
        "                if name in names:\n",
        "                    return getattr(__import__(module), name)\n",
        "        \n",
        "        raise pickle.UnpicklingError(\"global '%s.%s' is forbidden\" %\n",
        "                                     (module, name))\n",
        "\n",
        "\n",
        "def load(inst_type, *, filename=None, data=None):\n",
        "    \"\"\"\n",
        "    Function loads pickled object for data source like file or binary data\n",
        "    \n",
        "    @type inst_type: object\n",
        "    @param inst_type: specifies object type to be unpickled (requied); \n",
        "     \n",
        "    @type filename: str\n",
        "    @param inst_type: specifies path to pickle file (optional);\n",
        "    \n",
        "    @type data: bytes\n",
        "    @param inst_type: specifies pickled data (optional).\n",
        "    \n",
        "    @rtype: object\n",
        "    @return: returns unpickled object\n",
        "    \"\"\"\n",
        "    if filename is None and data is None:\n",
        "        raise Exception('Invalid arguments')\n",
        "        \n",
        "    obj = None\n",
        "    if filename and isinstance(filename, str) and os.path.isfile(filename):\n",
        "        with open(filename, 'rb') as fd:\n",
        "            obj = SafeUnpickler(io.BytesIO(fd.read()),\n",
        "                                safe_modules={__name__: [inst_type.__name__]} \n",
        "                               ) .load()\n",
        "            \n",
        "    elif data and isinstance(data, bytes):\n",
        "        obj = SafeUnpickler(io.BytesIO(data),\n",
        "                            safe_modules={__name__: [inst_type.__name__]} \n",
        "                           ) .load()\n",
        "    else:\n",
        "        raise Exception(f'Invalid data type {type(filename)}')\n",
        "    return obj\n",
        "\n",
        "\n",
        "def save(obj, filename):\n",
        "    with open(filename, 'wb') as fd:\n",
        "        p = pickle.Pickler(fd)\n",
        "        p.dump(obj)"
      ]
    },
    {
      "cell_type": "markdown",
      "id": "c81437df",
      "metadata": {
        "id": "c81437df"
      },
      "source": [
        "Из коробки наш SafeUnpickler поддерживает в качестве безопасных атрибутов (свойств и методов):\n",
        "* 'xrange'/'range','complex','set','frozenset','slice','list', 'tuple', 'object' из \\_\\_builtin\\_\\_ (Python 2.x) и builtins (Python 3.x)\n",
        "* '_reconstructor' из copy_reg (Python 2.x) и copyreg (Python 3.x)\n",
        "* явно указанный тип из \\_\\_name\\_\\_"
      ]
    },
    {
      "cell_type": "markdown",
      "id": "3da9108a",
      "metadata": {
        "id": "3da9108a"
      },
      "source": [
        "Ниже пытаемся загрузить наш инстанс (объект типа MyClass) из файла, созданного ранее, с помощью безопасного Unpickler-а:"
      ]
    },
    {
      "cell_type": "code",
      "execution_count": null,
      "id": "abadca0d",
      "metadata": {
        "colab": {
          "base_uri": "https://localhost:8080/"
        },
        "id": "abadca0d",
        "outputId": "5d4596fc-a5d8-47a8-f96a-3c0178411b4c"
      },
      "outputs": [
        {
          "output_type": "stream",
          "name": "stdout",
          "text": [
            "name: \"I`m very important object! So don`t forget me!\", number: 1234567\n"
          ]
        }
      ],
      "source": [
        "m = load(MyClass, filename='myobject.pkl')\n",
        "print(str(m))"
      ]
    },
    {
      "cell_type": "markdown",
      "id": "2227b803",
      "metadata": {
        "id": "2227b803"
      },
      "source": [
        "Теперь попробуем загрузить \"заряженый\" через экран телевизора файл (вспоминаем игру в иммитацию). Ожидаемо, файл отвержен по причине того, что в нем встретился неразрешенный метод exec в составе пакета builtins "
      ]
    },
    {
      "cell_type": "code",
      "execution_count": null,
      "id": "0a31380b",
      "metadata": {
        "colab": {
          "base_uri": "https://localhost:8080/",
          "height": 311
        },
        "id": "0a31380b",
        "outputId": "ddd1414a-86a7-443b-c9ef-c33e29344b91"
      },
      "outputs": [
        {
          "output_type": "error",
          "ename": "UnpicklingError",
          "evalue": "ignored",
          "traceback": [
            "\u001b[0;31m---------------------------------------------------------------------------\u001b[0m",
            "\u001b[0;31mUnpicklingError\u001b[0m                           Traceback (most recent call last)",
            "\u001b[0;32m<ipython-input-46-957fb3cfa1a8>\u001b[0m in \u001b[0;36m<module>\u001b[0;34m\u001b[0m\n\u001b[0;32m----> 1\u001b[0;31m \u001b[0mp\u001b[0m \u001b[0;34m=\u001b[0m \u001b[0mload\u001b[0m\u001b[0;34m(\u001b[0m\u001b[0mMyClass\u001b[0m\u001b[0;34m,\u001b[0m \u001b[0mfilename\u001b[0m\u001b[0;34m=\u001b[0m\u001b[0;34m'pretrained_model_0.pkl'\u001b[0m\u001b[0;34m)\u001b[0m\u001b[0;34m\u001b[0m\u001b[0;34m\u001b[0m\u001b[0m\n\u001b[0m",
            "\u001b[0;32m<ipython-input-44-727c66bc3843>\u001b[0m in \u001b[0;36mload\u001b[0;34m(inst_type, filename, data)\u001b[0m\n\u001b[1;32m     95\u001b[0m     \u001b[0;32mif\u001b[0m \u001b[0mfilename\u001b[0m \u001b[0;32mand\u001b[0m \u001b[0misinstance\u001b[0m\u001b[0;34m(\u001b[0m\u001b[0mfilename\u001b[0m\u001b[0;34m,\u001b[0m \u001b[0mstr\u001b[0m\u001b[0;34m)\u001b[0m \u001b[0;32mand\u001b[0m \u001b[0mos\u001b[0m\u001b[0;34m.\u001b[0m\u001b[0mpath\u001b[0m\u001b[0;34m.\u001b[0m\u001b[0misfile\u001b[0m\u001b[0;34m(\u001b[0m\u001b[0mfilename\u001b[0m\u001b[0;34m)\u001b[0m\u001b[0;34m:\u001b[0m\u001b[0;34m\u001b[0m\u001b[0;34m\u001b[0m\u001b[0m\n\u001b[1;32m     96\u001b[0m         \u001b[0;32mwith\u001b[0m \u001b[0mopen\u001b[0m\u001b[0;34m(\u001b[0m\u001b[0mfilename\u001b[0m\u001b[0;34m,\u001b[0m \u001b[0;34m'rb'\u001b[0m\u001b[0;34m)\u001b[0m \u001b[0;32mas\u001b[0m \u001b[0mfd\u001b[0m\u001b[0;34m:\u001b[0m\u001b[0;34m\u001b[0m\u001b[0;34m\u001b[0m\u001b[0m\n\u001b[0;32m---> 97\u001b[0;31m             obj = SafeUnpickler(io.BytesIO(fd.read()),\n\u001b[0m\u001b[1;32m     98\u001b[0m                                 \u001b[0msafe_modules\u001b[0m\u001b[0;34m=\u001b[0m\u001b[0;34m{\u001b[0m\u001b[0m__name__\u001b[0m\u001b[0;34m:\u001b[0m \u001b[0;34m[\u001b[0m\u001b[0minst_type\u001b[0m\u001b[0;34m.\u001b[0m\u001b[0m__name__\u001b[0m\u001b[0;34m]\u001b[0m\u001b[0;34m}\u001b[0m\u001b[0;34m\u001b[0m\u001b[0;34m\u001b[0m\u001b[0m\n\u001b[1;32m     99\u001b[0m                                ) .load()\n",
            "\u001b[0;32m<ipython-input-44-727c66bc3843>\u001b[0m in \u001b[0;36mfind_class\u001b[0;34m(self, module, name)\u001b[0m\n\u001b[1;32m     69\u001b[0m                     \u001b[0;32mreturn\u001b[0m \u001b[0mgetattr\u001b[0m\u001b[0;34m(\u001b[0m\u001b[0m__import__\u001b[0m\u001b[0;34m(\u001b[0m\u001b[0mmodule\u001b[0m\u001b[0;34m)\u001b[0m\u001b[0;34m,\u001b[0m \u001b[0mname\u001b[0m\u001b[0;34m)\u001b[0m\u001b[0;34m\u001b[0m\u001b[0;34m\u001b[0m\u001b[0m\n\u001b[1;32m     70\u001b[0m \u001b[0;34m\u001b[0m\u001b[0m\n\u001b[0;32m---> 71\u001b[0;31m         raise pickle.UnpicklingError(\"global '%s.%s' is forbidden\" %\n\u001b[0m\u001b[1;32m     72\u001b[0m                                      (module, name))\n\u001b[1;32m     73\u001b[0m \u001b[0;34m\u001b[0m\u001b[0m\n",
            "\u001b[0;31mUnpicklingError\u001b[0m: global 'builtins.exec' is forbidden"
          ]
        }
      ],
      "source": [
        "p = load(MyClass, filename='pretrained_model_0.pkl')"
      ]
    },
    {
      "cell_type": "markdown",
      "id": "d72d1978",
      "metadata": {
        "id": "d72d1978"
      },
      "source": [
        "Вобщем, наша безопасная десериализация SafeUnpickler работает. Класс не претендует на полноту, и конечно требует доработки."
      ]
    },
    {
      "cell_type": "markdown",
      "id": "c1c53dd7",
      "metadata": {
        "id": "c1c53dd7"
      },
      "source": [
        "### Рекомендации\n",
        "\n",
        "* Не используйте десериализацию pickle из коробки (методы load/loads), если вы не уверены в надежности источника файлов и их целостности\n",
        "* Проверяйте источник файлов данных прежде чем десериализовывать инстансы из этих файлов\n",
        "* Используйте дополнительные методы, такие как цифровая подпись и хэш-суммы для файлов\n",
        "* Применяйте концепцию безопасной десериализации при помощи кастомизации Unpickler\n",
        "* Используйте альтернативные пакеты, такие как JSON, которые являются более безопасными"
      ]
    },
    {
      "cell_type": "markdown",
      "id": "706b72a6",
      "metadata": {
        "id": "706b72a6"
      },
      "source": [
        "### Итоги\n",
        "\n",
        "Мы рассмотрели:\n",
        "\n",
        "* типовой сценарий использования пакета pickle для сериализации и десериализации\n",
        "* угрозу, которая таится в механизме десериализации в пакете pickle\n",
        "* способ безопасной десериализации\n",
        "* рекомендации по работе\n",
        "\n",
        "Содзано специально для:\n",
        "* \"Комьюнити ЦНО\", \n",
        "* \"First steps in NLP Bootcamp\" \n",
        "* \"DS-9 (2МО-9) Машинное обучение\" / 2022\n",
        "\n",
        "По вопросам и предложениям пишите: \n",
        "* на почту mr.arch.lev@gmail.com или в групповые чаты\n",
        "\n",
        "Всем удачи и котиков!"
      ]
    },
    {
      "cell_type": "code",
      "execution_count": null,
      "id": "9dae191a",
      "metadata": {
        "id": "9dae191a"
      },
      "outputs": [],
      "source": []
    }
  ],
  "metadata": {
    "kernelspec": {
      "display_name": "Python 3 (ipykernel)",
      "language": "python",
      "name": "python3"
    },
    "language_info": {
      "codemirror_mode": {
        "name": "ipython",
        "version": 3
      },
      "file_extension": ".py",
      "mimetype": "text/x-python",
      "name": "python",
      "nbconvert_exporter": "python",
      "pygments_lexer": "ipython3",
      "version": "3.7.15"
    },
    "colab": {
      "provenance": [],
      "include_colab_link": true
    }
  },
  "nbformat": 4,
  "nbformat_minor": 5
}