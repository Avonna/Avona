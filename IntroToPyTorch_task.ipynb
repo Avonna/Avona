{
  "cells": [
    {
      "cell_type": "markdown",
      "metadata": {
        "id": "view-in-github",
        "colab_type": "text"
      },
      "source": [
        "<a href=\"https://colab.research.google.com/github/Avonna/Avona/blob/main/IntroToPyTorch_task.ipynb\" target=\"_parent\"><img src=\"https://colab.research.google.com/assets/colab-badge.svg\" alt=\"Open In Colab\"/></a>"
      ]
    },
    {
      "cell_type": "markdown",
      "source": [
        "# Знакомство с PyTorch"
      ],
      "metadata": {
        "id": "r_a9kwC_ISKE"
      }
    },
    {
      "cell_type": "markdown",
      "metadata": {
        "id": "i1hv5i-PkRLO"
      },
      "source": [
        "Сейчас мы познакомимся с библиотекой *PyTorch*. Он очень похож на *NumPy*, и сейчас вы в этом убедитесь!\n",
        "\n",
        "А почему именно *PyTorch*? Почитать можно [здесь](https://habr.com/ru/post/334380/)."
      ]
    },
    {
      "cell_type": "markdown",
      "source": [
        "## Вспоминаем *NumPy* и сравниваем операции в *PyTorch*"
      ],
      "metadata": {
        "id": "A7GbQRcUIkT4"
      }
    },
    {
      "cell_type": "markdown",
      "metadata": {
        "id": "9Y0oUAuhkRLX"
      },
      "source": [
        "Мы можем создавать матрицы, перемножать их, складывать, транспонировать и в целом совершать любые матричные операции"
      ]
    },
    {
      "cell_type": "code",
      "execution_count": 1,
      "metadata": {
        "id": "3m6fDtKlkRLZ"
      },
      "outputs": [],
      "source": [
        "import numpy as np \n",
        "\n",
        "import torch\n",
        "import torchvision\n",
        "\n",
        "import torch.nn as nn\n",
        "import torch.nn.functional as F\n",
        "\n",
        "import matplotlib.pyplot as plt"
      ]
    },
    {
      "cell_type": "code",
      "execution_count": 2,
      "metadata": {
        "colab": {
          "base_uri": "https://localhost:8080/"
        },
        "id": "nKJ_eIf9kRLc",
        "outputId": "aaceb7ea-b38e-4419-b1ea-79337b4986c5"
      },
      "outputs": [
        {
          "output_type": "execute_result",
          "data": {
            "text/plain": [
              "array([[0.37454012, 0.95071431, 0.73199394],\n",
              "       [0.59865848, 0.15601864, 0.15599452],\n",
              "       [0.05808361, 0.86617615, 0.60111501],\n",
              "       [0.70807258, 0.02058449, 0.96990985],\n",
              "       [0.83244264, 0.21233911, 0.18182497]])"
            ]
          },
          "metadata": {},
          "execution_count": 2
        }
      ],
      "source": [
        "np.random.seed(42)\n",
        "\n",
        "a = np.random.rand(5, 3) # создали случайную матрицу \n",
        "a"
      ]
    },
    {
      "cell_type": "code",
      "execution_count": 3,
      "metadata": {
        "colab": {
          "base_uri": "https://localhost:8080/"
        },
        "id": "m7QzfmpNkRLd",
        "outputId": "d9564ed2-1e61-40e7-8b8e-7829064eab4b"
      },
      "outputs": [
        {
          "output_type": "stream",
          "name": "stdout",
          "text": [
            "Проверили размеры : (5, 3)\n",
            "\n"
          ]
        }
      ],
      "source": [
        "print(\"Проверили размеры : %s\\n\" % (a.shape,))"
      ]
    },
    {
      "cell_type": "code",
      "execution_count": 4,
      "metadata": {
        "colab": {
          "base_uri": "https://localhost:8080/"
        },
        "id": "iSH48GyMkRLe",
        "outputId": "4dea2923-bbcb-4774-f34c-b09ca534a411"
      },
      "outputs": [
        {
          "output_type": "stream",
          "name": "stdout",
          "text": [
            "Добавили 5 :\n",
            "[[5.37454012 5.95071431 5.73199394]\n",
            " [5.59865848 5.15601864 5.15599452]\n",
            " [5.05808361 5.86617615 5.60111501]\n",
            " [5.70807258 5.02058449 5.96990985]\n",
            " [5.83244264 5.21233911 5.18182497]]\n",
            "\n"
          ]
        }
      ],
      "source": [
        "print(\"Добавили 5 :\\n%s\\n\" % (a + 5))"
      ]
    },
    {
      "cell_type": "markdown",
      "source": [
        "## Задание"
      ],
      "metadata": {
        "id": "5PQpPyl-eNWC"
      }
    },
    {
      "cell_type": "markdown",
      "source": [
        "Умножьте матрицу `а` на транспонированную матрицу `а`.  \n",
        "\n",
        "Чему равен самый первый элемент результата?  \n",
        "Ответ округлите до сотых."
      ],
      "metadata": {
        "id": "Q-Xs6jUiJUqc"
      }
    },
    {
      "cell_type": "code",
      "execution_count": 6,
      "metadata": {
        "id": "3PH52x_pkRLf",
        "outputId": "0b39eecb-82af-4110-b236-d652d92e473f",
        "colab": {
          "base_uri": "https://localhost:8080/"
        }
      },
      "outputs": [
        {
          "output_type": "stream",
          "name": "stdout",
          "text": [
            "[[1.57995312 0.48673782 1.28525324 0.9947397  0.64675177]\n",
            " [0.48673782 0.40706809 0.26368252 0.57840584 0.55984141]\n",
            " [1.28525324 0.26368252 1.11497408 0.64198458 0.34157207]\n",
            " [0.9947397  0.57840584 0.64198458 1.44251562 0.77015453]\n",
            " [0.64675177 0.55984141 0.34157207 0.77015453 0.77110897]]\n"
          ]
        }
      ],
      "source": [
        "# your code here\n",
        "print(np.dot(a, a.T))"
      ]
    },
    {
      "cell_type": "code",
      "execution_count": 7,
      "metadata": {
        "colab": {
          "base_uri": "https://localhost:8080/"
        },
        "id": "NdmpOlEZkRLg",
        "outputId": "0c35dce6-7e66-47d7-aea4-b5466771fbd5"
      },
      "outputs": [
        {
          "output_type": "stream",
          "name": "stdout",
          "text": [
            "Среднее по колонкам :\n",
            "[0.68574946 0.30355721 0.50845826 0.56618897 0.40886891]\n",
            "\n"
          ]
        }
      ],
      "source": [
        "print(\"Среднее по колонкам :\\n%s\\n\" % (a.mean(axis=-1)))"
      ]
    },
    {
      "cell_type": "code",
      "execution_count": 8,
      "metadata": {
        "colab": {
          "base_uri": "https://localhost:8080/"
        },
        "id": "4jbmtVfLkRLh",
        "outputId": "094191f3-21c6-4827-ed6b-152ea20966dc"
      },
      "outputs": [
        {
          "output_type": "stream",
          "name": "stdout",
          "text": [
            "Изменили размеры :\n",
            "(3, 5)\n",
            "\n"
          ]
        }
      ],
      "source": [
        "print(\"Изменили размеры :\\n%s\\n\" % (a.reshape(3, 5).shape,))"
      ]
    },
    {
      "cell_type": "markdown",
      "metadata": {
        "id": "gOccPs9wkRLi"
      },
      "source": [
        "## Задание\n",
        "\n",
        "При помощи *NumPy* посчитайте сумму квадратов натуральных чисел от 1 до 10000."
      ]
    },
    {
      "cell_type": "code",
      "execution_count": 19,
      "metadata": {
        "id": "AXxc0OADkRLi",
        "outputId": "c1491a73-0222-4219-c6cb-46cb07daaf40",
        "colab": {
          "base_uri": "https://localhost:8080/"
        }
      },
      "outputs": [
        {
          "output_type": "execute_result",
          "data": {
            "text/plain": [
              "333383335000"
            ]
          },
          "metadata": {},
          "execution_count": 19
        }
      ],
      "source": [
        "# your code here\n",
        "b = np.arange(start=1, stop=10001, step=1)\n",
        "#b = b**2\n",
        "ssq = np.sum(b**2)\n",
        "ssq"
      ]
    },
    {
      "cell_type": "markdown",
      "metadata": {
        "id": "e0k_uiiokRLj"
      },
      "source": [
        "Аналогичные операции в *PyTorch* выглядят следующим образом, синтаксис отличается, но совсем немного:"
      ]
    },
    {
      "cell_type": "code",
      "execution_count": 9,
      "metadata": {
        "colab": {
          "base_uri": "https://localhost:8080/"
        },
        "id": "PWv2AHRykRLk",
        "outputId": "4a5ea16c-753d-4b10-f547-6bfd36897ef7"
      },
      "outputs": [
        {
          "output_type": "execute_result",
          "data": {
            "text/plain": [
              "tensor([[0.2196, 0.9661, 0.4488],\n",
              "        [0.2821, 0.5516, 0.7227],\n",
              "        [0.9061, 0.4496, 0.4312],\n",
              "        [0.1586, 0.8677, 0.2409],\n",
              "        [0.2322, 0.9104, 0.1414]])"
            ]
          },
          "metadata": {},
          "execution_count": 9
        }
      ],
      "source": [
        "x = torch.rand(5, 3)\n",
        "x"
      ]
    },
    {
      "cell_type": "code",
      "execution_count": 10,
      "metadata": {
        "colab": {
          "base_uri": "https://localhost:8080/"
        },
        "id": "fjNGDbtPkRLk",
        "outputId": "6190f72e-3156-4c56-e71d-f3ebcf06f6f4"
      },
      "outputs": [
        {
          "output_type": "stream",
          "name": "stdout",
          "text": [
            "Проверили размеры : torch.Size([5, 3])\n",
            "\n"
          ]
        }
      ],
      "source": [
        "print(\"Проверили размеры : %s\\n\" % (x.shape,))"
      ]
    },
    {
      "cell_type": "code",
      "execution_count": 11,
      "metadata": {
        "colab": {
          "base_uri": "https://localhost:8080/"
        },
        "id": "DALGo7QHkRLl",
        "outputId": "89d5e2e9-7184-4fca-f3f6-d30ee25fb666"
      },
      "outputs": [
        {
          "output_type": "stream",
          "name": "stdout",
          "text": [
            "Добавили 5 :\n",
            "tensor([[5.2196, 5.9661, 5.4488],\n",
            "        [5.2821, 5.5516, 5.7227],\n",
            "        [5.9061, 5.4496, 5.4312],\n",
            "        [5.1586, 5.8677, 5.2409],\n",
            "        [5.2322, 5.9104, 5.1414]])\n",
            "\n"
          ]
        }
      ],
      "source": [
        "print(\"Добавили 5 :\\n%s\\n\" % (x + 5))"
      ]
    },
    {
      "cell_type": "code",
      "execution_count": 12,
      "metadata": {
        "colab": {
          "base_uri": "https://localhost:8080/"
        },
        "id": "gm7QOaAQkRLm",
        "outputId": "62f85dbf-45ef-48fe-f01a-341272248e9d"
      },
      "outputs": [
        {
          "output_type": "stream",
          "name": "stdout",
          "text": [
            "X*X^T  (1):\n",
            "tensor([[1.1831, 0.9192, 0.8269, 0.9813, 0.9941],\n",
            "        [0.9192, 0.9061, 0.8152, 0.6975, 0.6699],\n",
            "        [0.8269, 0.8152, 1.2091, 0.6377, 0.6807],\n",
            "        [0.9813, 0.6975, 0.6377, 0.8361, 0.8609],\n",
            "        [0.9941, 0.6699, 0.6807, 0.8609, 0.9028]])\n",
            "\n",
            "X*X^T  (2):\n",
            "tensor([[1.1831, 0.9192, 0.8269, 0.9813, 0.9941],\n",
            "        [0.9192, 0.9061, 0.8152, 0.6975, 0.6699],\n",
            "        [0.8269, 0.8152, 1.2091, 0.6377, 0.6807],\n",
            "        [0.9813, 0.6975, 0.6377, 0.8361, 0.8609],\n",
            "        [0.9941, 0.6699, 0.6807, 0.8609, 0.9028]])\n",
            "\n"
          ]
        }
      ],
      "source": [
        "print(\"X*X^T  (1):\\n%s\\n\" % (torch.matmul(x, x.transpose(1, 0))))\n",
        "print(\"X*X^T  (2):\\n%s\\n\" % (x.mm(x.t())))"
      ]
    },
    {
      "cell_type": "code",
      "execution_count": 13,
      "metadata": {
        "colab": {
          "base_uri": "https://localhost:8080/"
        },
        "id": "9MlA4NnokRLm",
        "outputId": "e96510b9-21e2-4822-ba4d-ade1d54a6625"
      },
      "outputs": [
        {
          "output_type": "stream",
          "name": "stdout",
          "text": [
            "Среднее по колонкам :\n",
            "tensor([0.5448, 0.5188, 0.5956, 0.4224, 0.4280])\n",
            "\n"
          ]
        }
      ],
      "source": [
        "print(\"Среднее по колонкам :\\n%s\\n\" % (x.mean(dim=-1)))"
      ]
    },
    {
      "cell_type": "code",
      "execution_count": 14,
      "metadata": {
        "colab": {
          "base_uri": "https://localhost:8080/"
        },
        "id": "1wqQTDpOkRLn",
        "outputId": "cb1e0181-13fb-4c5f-9a9b-65d3eab1866c"
      },
      "outputs": [
        {
          "output_type": "stream",
          "name": "stdout",
          "text": [
            "Изменили размеры :\n",
            "torch.Size([3, 5])\n",
            "\n",
            "Изменили размеры :\n",
            "torch.Size([3, 5])\n",
            "\n"
          ]
        }
      ],
      "source": [
        "print(\"Изменили размеры :\\n%s\\n\" % (x.view([3, 5]).shape,))\n",
        "print(\"Изменили размеры :\\n%s\\n\" % (x.view_as(x.t()).shape,))"
      ]
    },
    {
      "cell_type": "markdown",
      "metadata": {
        "id": "EtnLnIxPkRLn"
      },
      "source": [
        "Небольшой пример того, как меняются операции:\n",
        "\n",
        "* `x.reshape([1,2,8]) -> x.view(1,2,8)`\n",
        "\n",
        "* `x.sum(axis=-1) -> x.sum(dim=-1)`\n",
        "\n",
        "* `x.astype('int64') -> x.type(torch.LongTensor)`\n",
        "\n",
        "Для помощи вам есть [таблица](https://github.com/torch/torch7/wiki/Torch-for-Numpy-users), которая поможет вам найти аналог операции в *NumPy*.\n"
      ]
    },
    {
      "cell_type": "markdown",
      "metadata": {
        "id": "V-QMteahkRLo"
      },
      "source": [
        "При помощи *PyTorch* посчитаем сумму квадратов натуральных чисел от 1 до 10000."
      ]
    },
    {
      "cell_type": "code",
      "execution_count": 20,
      "metadata": {
        "colab": {
          "base_uri": "https://localhost:8080/"
        },
        "id": "rHzmts5AkRLo",
        "outputId": "65776b50-4cf3-450b-db09-16aff8deb1de"
      },
      "outputs": [
        {
          "output_type": "stream",
          "name": "stderr",
          "text": [
            "<ipython-input-20-b9d129fd8adb>:1: UserWarning: torch.range is deprecated and will be removed in a future release because its behavior is inconsistent with Python's range builtin. Instead, use torch.arange, which produces values in [start, end).\n",
            "  torch.sum(torch.range(1, 10000) ** 2)\n"
          ]
        },
        {
          "output_type": "execute_result",
          "data": {
            "text/plain": [
              "tensor(3.3338e+11)"
            ]
          },
          "metadata": {},
          "execution_count": 20
        }
      ],
      "source": [
        "torch.sum(torch.range(1, 10000) ** 2)"
      ]
    },
    {
      "cell_type": "markdown",
      "metadata": {
        "id": "-ebxkKPikRLp"
      },
      "source": [
        "Создаем тензоры в *PyTorch* и снова изучаем базовые операции"
      ]
    },
    {
      "cell_type": "code",
      "execution_count": 21,
      "metadata": {
        "colab": {
          "base_uri": "https://localhost:8080/"
        },
        "id": "lnxk_oJZkRLq",
        "outputId": "44c8f9f5-c409-4653-a4b3-a7ab3fde1269"
      },
      "outputs": [
        {
          "output_type": "stream",
          "name": "stdout",
          "text": [
            "tensor([[6.7403e-34, 4.5664e-41, 6.7403e-34],\n",
            "        [4.5664e-41, 0.0000e+00, 0.0000e+00],\n",
            "        [1.4013e-45, 0.0000e+00, 0.0000e+00],\n",
            "        [1.4013e-45, 1.5414e-44, 0.0000e+00],\n",
            "        [0.0000e+00, 0.0000e+00, 1.1351e-43]])\n"
          ]
        }
      ],
      "source": [
        "x = torch.empty(5, 3) # пустой тензор\n",
        "print(x)"
      ]
    },
    {
      "cell_type": "code",
      "execution_count": 22,
      "metadata": {
        "colab": {
          "base_uri": "https://localhost:8080/"
        },
        "id": "fKAtmLU1kRLr",
        "outputId": "238f5621-06dd-4c89-ac06-dcd1766d7e95"
      },
      "outputs": [
        {
          "output_type": "stream",
          "name": "stdout",
          "text": [
            "tensor([[0.1980, 0.6171, 0.9252],\n",
            "        [0.9059, 0.1676, 0.0296],\n",
            "        [0.0750, 0.8905, 0.4857],\n",
            "        [0.4778, 0.6977, 0.7217],\n",
            "        [0.1951, 0.7770, 0.8756]])\n"
          ]
        }
      ],
      "source": [
        "x = torch.rand(5, 3) # тензор со случайными числами\n",
        "print(x)"
      ]
    },
    {
      "cell_type": "code",
      "execution_count": 23,
      "metadata": {
        "colab": {
          "base_uri": "https://localhost:8080/"
        },
        "id": "xSMg9XO5kRLr",
        "outputId": "8f3d8d78-749f-4c9a-b062-f4e33b9fbbe2"
      },
      "outputs": [
        {
          "output_type": "stream",
          "name": "stdout",
          "text": [
            "tensor([[0, 0, 0],\n",
            "        [0, 0, 0],\n",
            "        [0, 0, 0],\n",
            "        [0, 0, 0],\n",
            "        [0, 0, 0]])\n"
          ]
        }
      ],
      "source": [
        "x = torch.zeros(5, 3, dtype=torch.long) # тензор с нулями и указанием типов чисел\n",
        "print(x)"
      ]
    },
    {
      "cell_type": "code",
      "execution_count": 25,
      "metadata": {
        "colab": {
          "base_uri": "https://localhost:8080/"
        },
        "id": "FQlyXpO1kRLs",
        "outputId": "eb758fab-2e2a-43e7-bf1e-3f885425fe56"
      },
      "outputs": [
        {
          "output_type": "stream",
          "name": "stdout",
          "text": [
            "tensor([5.5000, 3.0000])\n"
          ]
        }
      ],
      "source": [
        "x = torch.tensor([5.5, 3]) # конструируем тензор из питоновского листа\n",
        "print(x)"
      ]
    },
    {
      "cell_type": "code",
      "execution_count": 26,
      "metadata": {
        "colab": {
          "base_uri": "https://localhost:8080/"
        },
        "id": "9upBvFU3kRLs",
        "outputId": "2d618eb8-f22b-4eaf-e59b-8fa141498f5b"
      },
      "outputs": [
        {
          "output_type": "stream",
          "name": "stdout",
          "text": [
            "tensor([[1., 1., 1.],\n",
            "        [1., 1., 1.],\n",
            "        [1., 1., 1.],\n",
            "        [1., 1., 1.],\n",
            "        [1., 1., 1.]], dtype=torch.float64) torch.Size([5, 3])\n"
          ]
        }
      ],
      "source": [
        "x = x.new_ones(5, 3, dtype=torch.double) # используем уже созданный тензор для создания тензора из единичек\n",
        "print(x, x.size()) "
      ]
    },
    {
      "cell_type": "code",
      "execution_count": 27,
      "metadata": {
        "colab": {
          "base_uri": "https://localhost:8080/"
        },
        "id": "_u-h30lYkRLt",
        "outputId": "0e49af1d-5ea6-4098-8d97-c7b4c5a928e7"
      },
      "outputs": [
        {
          "output_type": "stream",
          "name": "stdout",
          "text": [
            "tensor([[-1.2284,  0.5294,  1.2211],\n",
            "        [ 0.1511, -0.3319, -0.4785],\n",
            "        [-0.2631, -0.1786, -1.1859],\n",
            "        [-0.8860, -0.7150,  0.1280],\n",
            "        [-0.1603, -2.2161, -0.6858]]) torch.Size([5, 3])\n"
          ]
        }
      ],
      "source": [
        "x = torch.randn_like(x, dtype=torch.float) # создаем матрицу с размерами как у x\n",
        "print(x, x.size())"
      ]
    },
    {
      "cell_type": "markdown",
      "source": [
        "## Задание"
      ],
      "metadata": {
        "id": "nct86OE6Lzdt"
      }
    },
    {
      "cell_type": "markdown",
      "source": [
        "Сгенерируйте два тензора: `x` и `y` размера 5 на 3 со случайными числами.\n",
        "Вычислите сумму тензоров `x` и `y`.\n",
        "\n",
        "В ответе напишите значение первой координаты в полученной суммы, округленной до сотых."
      ],
      "metadata": {
        "id": "VdZOcgoafJdK"
      }
    },
    {
      "cell_type": "code",
      "execution_count": 31,
      "metadata": {
        "colab": {
          "base_uri": "https://localhost:8080/"
        },
        "id": "f-zCf-MhkRLt",
        "outputId": "8ae9c588-4883-46d8-b215-32eaf5e453d9"
      },
      "outputs": [
        {
          "output_type": "execute_result",
          "data": {
            "text/plain": [
              "tensor(9.9613)"
            ]
          },
          "metadata": {},
          "execution_count": 31
        }
      ],
      "source": [
        "torch.manual_seed(42)\n",
        "x = torch.rand(5, 3) # тензор со случайными числами\n",
        "y = torch.rand(5, 3) # тензор со случайными числами\n",
        "#print(x)\n",
        "torch.sum(x)\n",
        "# your code here"
      ]
    },
    {
      "cell_type": "code",
      "execution_count": 32,
      "metadata": {
        "id": "fwOv0PQykRLw",
        "outputId": "06d0ff73-5a46-4aef-82b8-5362db369639",
        "colab": {
          "base_uri": "https://localhost:8080/"
        }
      },
      "outputs": [
        {
          "output_type": "stream",
          "name": "stdout",
          "text": [
            "tensor([[1.3117, 1.8004, 0.9568],\n",
            "        [1.2259, 1.0179, 0.8705],\n",
            "        [0.6979, 1.0906, 1.7725],\n",
            "        [0.2385, 1.2041, 0.9524],\n",
            "        [1.0688, 1.1149, 0.7473]])\n"
          ]
        }
      ],
      "source": [
        "print(x * y) # поэлементное умножение"
      ]
    },
    {
      "cell_type": "markdown",
      "source": [
        "## Задание"
      ],
      "metadata": {
        "id": "95pa8_HnL7r0"
      }
    },
    {
      "cell_type": "markdown",
      "source": [
        "Умножьте матрицу `x` на транспонированную матрицу `y`.\n",
        "\n",
        "В ответ напишите последний элемент (правый нижний) полученной матрицы.  \n",
        "Ответ округлите до сотых."
      ],
      "metadata": {
        "id": "lmF9KzEtgGOa"
      }
    },
    {
      "cell_type": "code",
      "execution_count": 33,
      "metadata": {
        "id": "8CeulY3jkRLx",
        "outputId": "588f48da-e0bb-43bc-ebe9-c061204d81f5",
        "colab": {
          "base_uri": "https://localhost:8080/"
        }
      },
      "outputs": [
        {
          "output_type": "execute_result",
          "data": {
            "text/plain": [
              "tensor([[1.4088, 0.9125, 0.9795, 0.4769, 0.6789],\n",
              "        [1.1025, 0.6627, 1.0391, 0.4219, 0.4086],\n",
              "        [1.3528, 0.8200, 1.1313, 0.5785, 0.4912],\n",
              "        [1.2254, 0.7820, 0.8300, 0.4789, 0.5416],\n",
              "        [1.3013, 0.7878, 1.1686, 0.5105, 0.4885]])"
            ]
          },
          "metadata": {},
          "execution_count": 33
        }
      ],
      "source": [
        "# your code here\n",
        "torch.mm(x, y.t())"
      ]
    },
    {
      "cell_type": "code",
      "execution_count": null,
      "metadata": {
        "colab": {
          "base_uri": "https://localhost:8080/"
        },
        "id": "JfIqJz8EkRLy",
        "outputId": "47f940f1-46d2-46fd-bd6e-4541f65d79d1"
      },
      "outputs": [
        {
          "output_type": "stream",
          "name": "stdout",
          "text": [
            "torch.Size([1, 5, 3])\n"
          ]
        }
      ],
      "source": [
        "print(x.unsqueeze(0).shape) # добавили измерение в начало, аналог броадкастинга "
      ]
    },
    {
      "cell_type": "code",
      "execution_count": null,
      "metadata": {
        "colab": {
          "base_uri": "https://localhost:8080/"
        },
        "id": "WlGFxytDkRLz",
        "outputId": "5dafb85e-16ee-4d9f-8803-79750e8a7435"
      },
      "outputs": [
        {
          "output_type": "stream",
          "name": "stdout",
          "text": [
            "torch.Size([5, 3])\n"
          ]
        }
      ],
      "source": [
        "print(x.unsqueeze(0).squeeze(0).shape) # убрали измерение в начале, аналог броадкастинга "
      ]
    },
    {
      "cell_type": "code",
      "source": [
        "a = torch.rand((1,3))\n",
        "a"
      ],
      "metadata": {
        "colab": {
          "base_uri": "https://localhost:8080/"
        },
        "id": "CDlNQv5hNb8S",
        "outputId": "333707ef-335c-471c-af4b-9a8c217693aa"
      },
      "execution_count": null,
      "outputs": [
        {
          "output_type": "execute_result",
          "data": {
            "text/plain": [
              "tensor([[0.8823, 0.9150, 0.3829]])"
            ]
          },
          "metadata": {},
          "execution_count": 27
        }
      ]
    },
    {
      "cell_type": "code",
      "source": [
        "a.squeeze(0)"
      ],
      "metadata": {
        "colab": {
          "base_uri": "https://localhost:8080/"
        },
        "id": "qzPXu8k4Nb_X",
        "outputId": "276fc68a-c6ff-4e57-c9dc-a9241c89cf24"
      },
      "execution_count": null,
      "outputs": [
        {
          "output_type": "execute_result",
          "data": {
            "text/plain": [
              "tensor([0.8823, 0.9150, 0.3829])"
            ]
          },
          "metadata": {},
          "execution_count": 28
        }
      ]
    },
    {
      "cell_type": "markdown",
      "metadata": {
        "id": "hVtkNSS8kRLz"
      },
      "source": [
        "Мы также можем делать обычные срезы и переводить матрицы назад в *NumPy*:"
      ]
    },
    {
      "cell_type": "code",
      "execution_count": null,
      "metadata": {
        "colab": {
          "base_uri": "https://localhost:8080/"
        },
        "id": "6Jv3jZimkRLz",
        "outputId": "769ab5b4-2e1e-4284-fe1f-39113344792a"
      },
      "outputs": [
        {
          "output_type": "stream",
          "name": "stdout",
          "text": [
            "True\n",
            "True\n"
          ]
        }
      ],
      "source": [
        "a = np.ones((3, 5))\n",
        "x = torch.ones((3, 5))\n",
        "print(np.allclose(x.numpy(), a))\n",
        "print(np.allclose(x.numpy()[:, 1], a[:, 1]))"
      ]
    },
    {
      "cell_type": "code",
      "source": [
        "a = np.array([1,2,3,4])\n",
        "b = np.array([[5],[6],[7],[8]])\n",
        "\n",
        "a.shape, b.shape"
      ],
      "metadata": {
        "colab": {
          "base_uri": "https://localhost:8080/"
        },
        "id": "5jCXz5cakiw5",
        "outputId": "369f255a-5144-476d-fe2a-09a527c704ef"
      },
      "execution_count": null,
      "outputs": [
        {
          "output_type": "execute_result",
          "data": {
            "text/plain": [
              "((4,), (4, 1))"
            ]
          },
          "metadata": {},
          "execution_count": 34
        }
      ]
    },
    {
      "cell_type": "code",
      "source": [
        "a @ b"
      ],
      "metadata": {
        "colab": {
          "base_uri": "https://localhost:8080/"
        },
        "id": "KtEUqtkZkp6-",
        "outputId": "c3fbc569-dfc0-4bd1-cd89-b235f1dcc66f"
      },
      "execution_count": null,
      "outputs": [
        {
          "output_type": "execute_result",
          "data": {
            "text/plain": [
              "array([70])"
            ]
          },
          "metadata": {},
          "execution_count": 32
        }
      ]
    },
    {
      "cell_type": "code",
      "source": [
        "b @ a"
      ],
      "metadata": {
        "colab": {
          "base_uri": "https://localhost:8080/",
          "height": 164
        },
        "id": "rYIcV16ukw3_",
        "outputId": "7903aabc-c2f4-4605-e1a8-985b1942814c"
      },
      "execution_count": null,
      "outputs": [
        {
          "output_type": "error",
          "ename": "ValueError",
          "evalue": "ignored",
          "traceback": [
            "\u001b[0;31m---------------------------------------------------------------------------\u001b[0m",
            "\u001b[0;31mValueError\u001b[0m                                Traceback (most recent call last)",
            "\u001b[0;32m<ipython-input-33-6948e4cb9803>\u001b[0m in \u001b[0;36m<module>\u001b[0;34m\u001b[0m\n\u001b[0;32m----> 1\u001b[0;31m \u001b[0mb\u001b[0m \u001b[0;34m@\u001b[0m \u001b[0ma\u001b[0m\u001b[0;34m\u001b[0m\u001b[0;34m\u001b[0m\u001b[0m\n\u001b[0m",
            "\u001b[0;31mValueError\u001b[0m: matmul: Input operand 1 has a mismatch in its core dimension 0, with gufunc signature (n?,k),(k,m?)->(n?,m?) (size 4 is different from 1)"
          ]
        }
      ]
    }
  ],
  "metadata": {
    "colab": {
      "provenance": [],
      "include_colab_link": true
    },
    "kernelspec": {
      "display_name": "Python 3",
      "language": "python",
      "name": "python3"
    },
    "language_info": {
      "codemirror_mode": {
        "name": "ipython",
        "version": 3
      },
      "file_extension": ".py",
      "mimetype": "text/x-python",
      "name": "python",
      "nbconvert_exporter": "python",
      "pygments_lexer": "ipython3",
      "version": "3.6.9"
    },
    "accelerator": "GPU",
    "gpuClass": "standard"
  },
  "nbformat": 4,
  "nbformat_minor": 0
}